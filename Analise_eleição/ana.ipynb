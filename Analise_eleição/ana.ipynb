{
 "cells": [
  {
   "cell_type": "code",
   "execution_count": 9,
   "metadata": {},
   "outputs": [
    {
     "name": "stderr",
     "output_type": "stream",
     "text": [
      "c:\\Users\\gabriel\\AppData\\Local\\Programs\\Python\\Python312\\Lib\\site-packages\\openpyxl\\worksheet\\_reader.py:329: UserWarning: Unknown extension is not supported and will be removed\n",
      "  warn(msg)\n"
     ]
    },
    {
     "data": {
      "text/html": [
       "<div>\n",
       "<style scoped>\n",
       "    .dataframe tbody tr th:only-of-type {\n",
       "        vertical-align: middle;\n",
       "    }\n",
       "\n",
       "    .dataframe tbody tr th {\n",
       "        vertical-align: top;\n",
       "    }\n",
       "\n",
       "    .dataframe thead th {\n",
       "        text-align: right;\n",
       "    }\n",
       "</style>\n",
       "<table border=\"1\" class=\"dataframe\">\n",
       "  <thead>\n",
       "    <tr style=\"text-align: right;\">\n",
       "      <th></th>\n",
       "      <th>id_candidato</th>\n",
       "      <th>numero</th>\n",
       "      <th>candidato</th>\n",
       "      <th>partido</th>\n",
       "      <th>eleito</th>\n",
       "      <th>votos_totalizados</th>\n",
       "      <th>situacao</th>\n",
       "      <th>cargo</th>\n",
       "      <th>slug</th>\n",
       "      <th>cod_eleicao</th>\n",
       "      <th>...</th>\n",
       "      <th>eleitorado</th>\n",
       "      <th>eleitorado_apurado</th>\n",
       "      <th>comparecimento</th>\n",
       "      <th>abstencao</th>\n",
       "      <th>total_de_votos</th>\n",
       "      <th>votos_brancos</th>\n",
       "      <th>votos_nulos</th>\n",
       "      <th>votos_validos</th>\n",
       "      <th>votos_legenda</th>\n",
       "      <th>votos_nominais</th>\n",
       "    </tr>\n",
       "  </thead>\n",
       "  <tbody>\n",
       "    <tr>\n",
       "      <th>0</th>\n",
       "      <td>70000608909</td>\n",
       "      <td>10123</td>\n",
       "      <td>Martins Machado</td>\n",
       "      <td>PRB</td>\n",
       "      <td>s</td>\n",
       "      <td>29457</td>\n",
       "      <td>Deferido</td>\n",
       "      <td>Deputado Distrital</td>\n",
       "      <td>deputado-distrital-df</td>\n",
       "      <td>297</td>\n",
       "      <td>...</td>\n",
       "      <td>2081218</td>\n",
       "      <td>2081218</td>\n",
       "      <td>1691392</td>\n",
       "      <td>389826</td>\n",
       "      <td>1691392</td>\n",
       "      <td>87589</td>\n",
       "      <td>126237</td>\n",
       "      <td>1477566</td>\n",
       "      <td>81132</td>\n",
       "      <td>1396434</td>\n",
       "    </tr>\n",
       "    <tr>\n",
       "      <th>1</th>\n",
       "      <td>70000605604</td>\n",
       "      <td>90190</td>\n",
       "      <td>Delegado Fernando Fernandes</td>\n",
       "      <td>Pros</td>\n",
       "      <td>s</td>\n",
       "      <td>29420</td>\n",
       "      <td>Deferido</td>\n",
       "      <td>Deputado Distrital</td>\n",
       "      <td>deputado-distrital-df</td>\n",
       "      <td>297</td>\n",
       "      <td>...</td>\n",
       "      <td>2081218</td>\n",
       "      <td>2081218</td>\n",
       "      <td>1691392</td>\n",
       "      <td>389826</td>\n",
       "      <td>1691392</td>\n",
       "      <td>87589</td>\n",
       "      <td>126237</td>\n",
       "      <td>1477566</td>\n",
       "      <td>81132</td>\n",
       "      <td>1396434</td>\n",
       "    </tr>\n",
       "    <tr>\n",
       "      <th>2</th>\n",
       "      <td>70000607617</td>\n",
       "      <td>12345</td>\n",
       "      <td>Professor Reginaldo Veras</td>\n",
       "      <td>PDT</td>\n",
       "      <td>s</td>\n",
       "      <td>27998</td>\n",
       "      <td>Deferido</td>\n",
       "      <td>Deputado Distrital</td>\n",
       "      <td>deputado-distrital-df</td>\n",
       "      <td>297</td>\n",
       "      <td>...</td>\n",
       "      <td>2081218</td>\n",
       "      <td>2081218</td>\n",
       "      <td>1691392</td>\n",
       "      <td>389826</td>\n",
       "      <td>1691392</td>\n",
       "      <td>87589</td>\n",
       "      <td>126237</td>\n",
       "      <td>1477566</td>\n",
       "      <td>81132</td>\n",
       "      <td>1396434</td>\n",
       "    </tr>\n",
       "    <tr>\n",
       "      <th>3</th>\n",
       "      <td>70000614448</td>\n",
       "      <td>15222</td>\n",
       "      <td>Rafael Prudente</td>\n",
       "      <td>MDB</td>\n",
       "      <td>s</td>\n",
       "      <td>26373</td>\n",
       "      <td>Deferido</td>\n",
       "      <td>Deputado Distrital</td>\n",
       "      <td>deputado-distrital-df</td>\n",
       "      <td>297</td>\n",
       "      <td>...</td>\n",
       "      <td>2081218</td>\n",
       "      <td>2081218</td>\n",
       "      <td>1691392</td>\n",
       "      <td>389826</td>\n",
       "      <td>1691392</td>\n",
       "      <td>87589</td>\n",
       "      <td>126237</td>\n",
       "      <td>1477566</td>\n",
       "      <td>81132</td>\n",
       "      <td>1396434</td>\n",
       "    </tr>\n",
       "    <tr>\n",
       "      <th>4</th>\n",
       "      <td>70000608912</td>\n",
       "      <td>10456</td>\n",
       "      <td>Delmasso</td>\n",
       "      <td>PRB</td>\n",
       "      <td>s</td>\n",
       "      <td>23227</td>\n",
       "      <td>Deferido</td>\n",
       "      <td>Deputado Distrital</td>\n",
       "      <td>deputado-distrital-df</td>\n",
       "      <td>297</td>\n",
       "      <td>...</td>\n",
       "      <td>2081218</td>\n",
       "      <td>2081218</td>\n",
       "      <td>1691392</td>\n",
       "      <td>389826</td>\n",
       "      <td>1691392</td>\n",
       "      <td>87589</td>\n",
       "      <td>126237</td>\n",
       "      <td>1477566</td>\n",
       "      <td>81132</td>\n",
       "      <td>1396434</td>\n",
       "    </tr>\n",
       "    <tr>\n",
       "      <th>...</th>\n",
       "      <td>...</td>\n",
       "      <td>...</td>\n",
       "      <td>...</td>\n",
       "      <td>...</td>\n",
       "      <td>...</td>\n",
       "      <td>...</td>\n",
       "      <td>...</td>\n",
       "      <td>...</td>\n",
       "      <td>...</td>\n",
       "      <td>...</td>\n",
       "      <td>...</td>\n",
       "      <td>...</td>\n",
       "      <td>...</td>\n",
       "      <td>...</td>\n",
       "      <td>...</td>\n",
       "      <td>...</td>\n",
       "      <td>...</td>\n",
       "      <td>...</td>\n",
       "      <td>...</td>\n",
       "      <td>...</td>\n",
       "      <td>...</td>\n",
       "    </tr>\n",
       "    <tr>\n",
       "      <th>26853</th>\n",
       "      <td>270000602793</td>\n",
       "      <td>455</td>\n",
       "      <td>Ataídes Oliveira</td>\n",
       "      <td>PSDB</td>\n",
       "      <td>n</td>\n",
       "      <td>170012</td>\n",
       "      <td>Deferido com recurso</td>\n",
       "      <td>Senador</td>\n",
       "      <td>senador-to</td>\n",
       "      <td>297</td>\n",
       "      <td>...</td>\n",
       "      <td>1038754</td>\n",
       "      <td>1038754</td>\n",
       "      <td>831214</td>\n",
       "      <td>207540</td>\n",
       "      <td>1662428</td>\n",
       "      <td>76167</td>\n",
       "      <td>311558</td>\n",
       "      <td>1274703</td>\n",
       "      <td>0</td>\n",
       "      <td>1274703</td>\n",
       "    </tr>\n",
       "    <tr>\n",
       "      <th>26854</th>\n",
       "      <td>270000626090</td>\n",
       "      <td>131</td>\n",
       "      <td>Paulo Mourão</td>\n",
       "      <td>PT</td>\n",
       "      <td>n</td>\n",
       "      <td>137654</td>\n",
       "      <td>Deferido</td>\n",
       "      <td>Senador</td>\n",
       "      <td>senador-to</td>\n",
       "      <td>297</td>\n",
       "      <td>...</td>\n",
       "      <td>1038754</td>\n",
       "      <td>1038754</td>\n",
       "      <td>831214</td>\n",
       "      <td>207540</td>\n",
       "      <td>1662428</td>\n",
       "      <td>76167</td>\n",
       "      <td>311558</td>\n",
       "      <td>1274703</td>\n",
       "      <td>0</td>\n",
       "      <td>1274703</td>\n",
       "    </tr>\n",
       "    <tr>\n",
       "      <th>26855</th>\n",
       "      <td>270000625482</td>\n",
       "      <td>177</td>\n",
       "      <td>Antônio Jorge</td>\n",
       "      <td>PSL</td>\n",
       "      <td>n</td>\n",
       "      <td>66089</td>\n",
       "      <td>Deferido</td>\n",
       "      <td>Senador</td>\n",
       "      <td>senador-to</td>\n",
       "      <td>297</td>\n",
       "      <td>...</td>\n",
       "      <td>1038754</td>\n",
       "      <td>1038754</td>\n",
       "      <td>831214</td>\n",
       "      <td>207540</td>\n",
       "      <td>1662428</td>\n",
       "      <td>76167</td>\n",
       "      <td>311558</td>\n",
       "      <td>1274703</td>\n",
       "      <td>0</td>\n",
       "      <td>1274703</td>\n",
       "    </tr>\n",
       "    <tr>\n",
       "      <th>26856</th>\n",
       "      <td>270000625486</td>\n",
       "      <td>170</td>\n",
       "      <td>Farlei o Federal</td>\n",
       "      <td>PSL</td>\n",
       "      <td>n</td>\n",
       "      <td>65676</td>\n",
       "      <td>Deferido</td>\n",
       "      <td>Senador</td>\n",
       "      <td>senador-to</td>\n",
       "      <td>297</td>\n",
       "      <td>...</td>\n",
       "      <td>1038754</td>\n",
       "      <td>1038754</td>\n",
       "      <td>831214</td>\n",
       "      <td>207540</td>\n",
       "      <td>1662428</td>\n",
       "      <td>76167</td>\n",
       "      <td>311558</td>\n",
       "      <td>1274703</td>\n",
       "      <td>0</td>\n",
       "      <td>1274703</td>\n",
       "    </tr>\n",
       "    <tr>\n",
       "      <th>26857</th>\n",
       "      <td>270000627774</td>\n",
       "      <td>500</td>\n",
       "      <td>Melk Aires</td>\n",
       "      <td>Psol</td>\n",
       "      <td>n</td>\n",
       "      <td>12312</td>\n",
       "      <td>Deferido</td>\n",
       "      <td>Senador</td>\n",
       "      <td>senador-to</td>\n",
       "      <td>297</td>\n",
       "      <td>...</td>\n",
       "      <td>1038754</td>\n",
       "      <td>1038754</td>\n",
       "      <td>831214</td>\n",
       "      <td>207540</td>\n",
       "      <td>1662428</td>\n",
       "      <td>76167</td>\n",
       "      <td>311558</td>\n",
       "      <td>1274703</td>\n",
       "      <td>0</td>\n",
       "      <td>1274703</td>\n",
       "    </tr>\n",
       "  </tbody>\n",
       "</table>\n",
       "<p>26858 rows × 34 columns</p>\n",
       "</div>"
      ],
      "text/plain": [
       "       id_candidato  numero                    candidato partido eleito  \\\n",
       "0       70000608909   10123              Martins Machado     PRB      s   \n",
       "1       70000605604   90190  Delegado Fernando Fernandes    Pros      s   \n",
       "2       70000607617   12345    Professor Reginaldo Veras     PDT      s   \n",
       "3       70000614448   15222              Rafael Prudente     MDB      s   \n",
       "4       70000608912   10456                     Delmasso     PRB      s   \n",
       "...             ...     ...                          ...     ...    ...   \n",
       "26853  270000602793     455             Ataídes Oliveira    PSDB      n   \n",
       "26854  270000626090     131                 Paulo Mourão      PT      n   \n",
       "26855  270000625482     177                Antônio Jorge     PSL      n   \n",
       "26856  270000625486     170             Farlei o Federal     PSL      n   \n",
       "26857  270000627774     500                   Melk Aires    Psol      n   \n",
       "\n",
       "       votos_totalizados              situacao               cargo  \\\n",
       "0                  29457              Deferido  Deputado Distrital   \n",
       "1                  29420              Deferido  Deputado Distrital   \n",
       "2                  27998              Deferido  Deputado Distrital   \n",
       "3                  26373              Deferido  Deputado Distrital   \n",
       "4                  23227              Deferido  Deputado Distrital   \n",
       "...                  ...                   ...                 ...   \n",
       "26853             170012  Deferido com recurso             Senador   \n",
       "26854             137654              Deferido             Senador   \n",
       "26855              66089              Deferido             Senador   \n",
       "26856              65676              Deferido             Senador   \n",
       "26857              12312              Deferido             Senador   \n",
       "\n",
       "                        slug  cod_eleicao  ... eleitorado eleitorado_apurado  \\\n",
       "0      deputado-distrital-df          297  ...    2081218            2081218   \n",
       "1      deputado-distrital-df          297  ...    2081218            2081218   \n",
       "2      deputado-distrital-df          297  ...    2081218            2081218   \n",
       "3      deputado-distrital-df          297  ...    2081218            2081218   \n",
       "4      deputado-distrital-df          297  ...    2081218            2081218   \n",
       "...                      ...          ...  ...        ...                ...   \n",
       "26853             senador-to          297  ...    1038754            1038754   \n",
       "26854             senador-to          297  ...    1038754            1038754   \n",
       "26855             senador-to          297  ...    1038754            1038754   \n",
       "26856             senador-to          297  ...    1038754            1038754   \n",
       "26857             senador-to          297  ...    1038754            1038754   \n",
       "\n",
       "       comparecimento  abstencao total_de_votos votos_brancos votos_nulos  \\\n",
       "0             1691392     389826        1691392         87589      126237   \n",
       "1             1691392     389826        1691392         87589      126237   \n",
       "2             1691392     389826        1691392         87589      126237   \n",
       "3             1691392     389826        1691392         87589      126237   \n",
       "4             1691392     389826        1691392         87589      126237   \n",
       "...               ...        ...            ...           ...         ...   \n",
       "26853          831214     207540        1662428         76167      311558   \n",
       "26854          831214     207540        1662428         76167      311558   \n",
       "26855          831214     207540        1662428         76167      311558   \n",
       "26856          831214     207540        1662428         76167      311558   \n",
       "26857          831214     207540        1662428         76167      311558   \n",
       "\n",
       "      votos_validos  votos_legenda votos_nominais  \n",
       "0           1477566          81132        1396434  \n",
       "1           1477566          81132        1396434  \n",
       "2           1477566          81132        1396434  \n",
       "3           1477566          81132        1396434  \n",
       "4           1477566          81132        1396434  \n",
       "...             ...            ...            ...  \n",
       "26853       1274703              0        1274703  \n",
       "26854       1274703              0        1274703  \n",
       "26855       1274703              0        1274703  \n",
       "26856       1274703              0        1274703  \n",
       "26857       1274703              0        1274703  \n",
       "\n",
       "[26858 rows x 34 columns]"
      ]
     },
     "metadata": {},
     "output_type": "display_data"
    }
   ],
   "source": [
    "import pandas as pd \n",
    "\n",
    "tabela = pd.read_excel(r\"C:\\Users\\gabriel\\Downloads\\analise_2\\2018_BR_Resultados_Tudo.xlsx\")\n",
    "tabela =  tabela.drop(columns= 'votos_anulados')\n",
    "tabela =  tabela.drop(columns='votos_pendentes')\n",
    "tabela = tabela.drop(columns='eleitorado_nao_apurado')\n",
    "tabela =tabela.drop(columns='nome_vice')\n",
    "tabela = tabela.drop(columns='coligacao')\n",
    "tabela = tabela.drop(columns='partido_original')\n",
    "tabela = tabela.drop(columns='seq')\n",
    "tabela = tabela.drop(columns='sequencial_ordem')\n",
    "tabela = tabela.drop(columns='votos_apurados')\n",
    "tabela = tabela.drop(columns='sem_votacao_nominal')\n",
    "tabela = tabela.drop(columns='nome_urna')\n",
    "display(tabela)"
   ]
  },
  {
   "cell_type": "code",
   "execution_count": 19,
   "metadata": {},
   "outputs": [
    {
     "data": {
      "text/html": [
       "<div>\n",
       "<style scoped>\n",
       "    .dataframe tbody tr th:only-of-type {\n",
       "        vertical-align: middle;\n",
       "    }\n",
       "\n",
       "    .dataframe tbody tr th {\n",
       "        vertical-align: top;\n",
       "    }\n",
       "\n",
       "    .dataframe thead th {\n",
       "        text-align: right;\n",
       "    }\n",
       "</style>\n",
       "<table border=\"1\" class=\"dataframe\">\n",
       "  <thead>\n",
       "    <tr style=\"text-align: right;\">\n",
       "      <th></th>\n",
       "      <th>candidato</th>\n",
       "      <th>partido</th>\n",
       "      <th>votos_totalizados</th>\n",
       "      <th>situacao</th>\n",
       "      <th>eleito</th>\n",
       "    </tr>\n",
       "  </thead>\n",
       "  <tbody>\n",
       "    <tr>\n",
       "      <th>0</th>\n",
       "      <td>Martins Machado</td>\n",
       "      <td>PRB</td>\n",
       "      <td>29457</td>\n",
       "      <td>Deferido</td>\n",
       "      <td>s</td>\n",
       "    </tr>\n",
       "    <tr>\n",
       "      <th>1</th>\n",
       "      <td>Delegado Fernando Fernandes</td>\n",
       "      <td>Pros</td>\n",
       "      <td>29420</td>\n",
       "      <td>Deferido</td>\n",
       "      <td>s</td>\n",
       "    </tr>\n",
       "    <tr>\n",
       "      <th>2</th>\n",
       "      <td>Professor Reginaldo Veras</td>\n",
       "      <td>PDT</td>\n",
       "      <td>27998</td>\n",
       "      <td>Deferido</td>\n",
       "      <td>s</td>\n",
       "    </tr>\n",
       "    <tr>\n",
       "      <th>3</th>\n",
       "      <td>Rafael Prudente</td>\n",
       "      <td>MDB</td>\n",
       "      <td>26373</td>\n",
       "      <td>Deferido</td>\n",
       "      <td>s</td>\n",
       "    </tr>\n",
       "    <tr>\n",
       "      <th>4</th>\n",
       "      <td>Delmasso</td>\n",
       "      <td>PRB</td>\n",
       "      <td>23227</td>\n",
       "      <td>Deferido</td>\n",
       "      <td>s</td>\n",
       "    </tr>\n",
       "    <tr>\n",
       "      <th>...</th>\n",
       "      <td>...</td>\n",
       "      <td>...</td>\n",
       "      <td>...</td>\n",
       "      <td>...</td>\n",
       "      <td>...</td>\n",
       "    </tr>\n",
       "    <tr>\n",
       "      <th>26818</th>\n",
       "      <td>Rogerio Carvalho Santos</td>\n",
       "      <td>PT</td>\n",
       "      <td>300247</td>\n",
       "      <td>Deferido</td>\n",
       "      <td>s</td>\n",
       "    </tr>\n",
       "    <tr>\n",
       "      <th>26829</th>\n",
       "      <td>Major Olimpio</td>\n",
       "      <td>PSL</td>\n",
       "      <td>9039717</td>\n",
       "      <td>Deferido</td>\n",
       "      <td>s</td>\n",
       "    </tr>\n",
       "    <tr>\n",
       "      <th>26830</th>\n",
       "      <td>Mara Gabrilli</td>\n",
       "      <td>PSDB</td>\n",
       "      <td>6513282</td>\n",
       "      <td>Deferido</td>\n",
       "      <td>s</td>\n",
       "    </tr>\n",
       "    <tr>\n",
       "      <th>26849</th>\n",
       "      <td>Eduardo Gomes</td>\n",
       "      <td>SD</td>\n",
       "      <td>248358</td>\n",
       "      <td>Deferido</td>\n",
       "      <td>s</td>\n",
       "    </tr>\n",
       "    <tr>\n",
       "      <th>26850</th>\n",
       "      <td>Irajá</td>\n",
       "      <td>PSD</td>\n",
       "      <td>214355</td>\n",
       "      <td>Deferido</td>\n",
       "      <td>s</td>\n",
       "    </tr>\n",
       "  </tbody>\n",
       "</table>\n",
       "<p>1667 rows × 5 columns</p>\n",
       "</div>"
      ],
      "text/plain": [
       "                         candidato partido  votos_totalizados  situacao eleito\n",
       "0                  Martins Machado     PRB              29457  Deferido      s\n",
       "1      Delegado Fernando Fernandes    Pros              29420  Deferido      s\n",
       "2        Professor Reginaldo Veras     PDT              27998  Deferido      s\n",
       "3                  Rafael Prudente     MDB              26373  Deferido      s\n",
       "4                         Delmasso     PRB              23227  Deferido      s\n",
       "...                            ...     ...                ...       ...    ...\n",
       "26818      Rogerio Carvalho Santos      PT             300247  Deferido      s\n",
       "26829                Major Olimpio     PSL            9039717  Deferido      s\n",
       "26830                Mara Gabrilli    PSDB            6513282  Deferido      s\n",
       "26849                Eduardo Gomes      SD             248358  Deferido      s\n",
       "26850                        Irajá     PSD             214355  Deferido      s\n",
       "\n",
       "[1667 rows x 5 columns]"
      ]
     },
     "metadata": {},
     "output_type": "display_data"
    }
   ],
   "source": [
    "df = pd.DataFrame(tabela)\n",
    "filtro_eleitor = df[df['eleito'] == 's']\n",
    "colunas_desejadas = filtro_eleitor[['candidato', 'partido', 'votos_totalizados', 'situacao','eleito']]\n",
    "#display(filtro_eleitor)\n",
    "display(colunas_desejadas)\n"
   ]
  },
  {
   "cell_type": "code",
   "execution_count": 28,
   "metadata": {},
   "outputs": [
    {
     "data": {
      "text/html": [
       "<div>\n",
       "<style scoped>\n",
       "    .dataframe tbody tr th:only-of-type {\n",
       "        vertical-align: middle;\n",
       "    }\n",
       "\n",
       "    .dataframe tbody tr th {\n",
       "        vertical-align: top;\n",
       "    }\n",
       "\n",
       "    .dataframe thead th {\n",
       "        text-align: right;\n",
       "    }\n",
       "</style>\n",
       "<table border=\"1\" class=\"dataframe\">\n",
       "  <thead>\n",
       "    <tr style=\"text-align: right;\">\n",
       "      <th></th>\n",
       "      <th>votos_totalizados</th>\n",
       "    </tr>\n",
       "    <tr>\n",
       "      <th>cargo</th>\n",
       "      <th></th>\n",
       "    </tr>\n",
       "  </thead>\n",
       "  <tbody>\n",
       "    <tr>\n",
       "      <th>Deputado Distrital</th>\n",
       "      <td>1396434</td>\n",
       "    </tr>\n",
       "    <tr>\n",
       "      <th>Deputado Estadual</th>\n",
       "      <td>89150477</td>\n",
       "    </tr>\n",
       "    <tr>\n",
       "      <th>Deputado Federal</th>\n",
       "      <td>91682908</td>\n",
       "    </tr>\n",
       "    <tr>\n",
       "      <th>Governador</th>\n",
       "      <td>95361678</td>\n",
       "    </tr>\n",
       "    <tr>\n",
       "      <th>Presidente</th>\n",
       "      <td>214101060</td>\n",
       "    </tr>\n",
       "    <tr>\n",
       "      <th>Senador</th>\n",
       "      <td>171370567</td>\n",
       "    </tr>\n",
       "  </tbody>\n",
       "</table>\n",
       "</div>"
      ],
      "text/plain": [
       "                    votos_totalizados\n",
       "cargo                                \n",
       "Deputado Distrital            1396434\n",
       "Deputado Estadual            89150477\n",
       "Deputado Federal             91682908\n",
       "Governador                   95361678\n",
       "Presidente                  214101060\n",
       "Senador                     171370567"
      ]
     },
     "metadata": {},
     "output_type": "display_data"
    }
   ],
   "source": [
    "agrupado = df.groupby('cargo').sum('votos_validos')\n",
    "colunas_desejadas = agrupado[['votos_totalizados']]\n",
    "display(colunas_desejadas)"
   ]
  },
  {
   "cell_type": "code",
   "execution_count": 33,
   "metadata": {},
   "outputs": [
    {
     "data": {
      "text/html": [
       "<div>\n",
       "<style scoped>\n",
       "    .dataframe tbody tr th:only-of-type {\n",
       "        vertical-align: middle;\n",
       "    }\n",
       "\n",
       "    .dataframe tbody tr th {\n",
       "        vertical-align: top;\n",
       "    }\n",
       "\n",
       "    .dataframe thead th {\n",
       "        text-align: right;\n",
       "    }\n",
       "</style>\n",
       "<table border=\"1\" class=\"dataframe\">\n",
       "  <thead>\n",
       "    <tr style=\"text-align: right;\">\n",
       "      <th></th>\n",
       "      <th>id_candidato</th>\n",
       "      <th>numero</th>\n",
       "      <th>candidato</th>\n",
       "      <th>partido</th>\n",
       "      <th>eleito</th>\n",
       "      <th>votos_totalizados</th>\n",
       "      <th>situacao</th>\n",
       "      <th>cargo</th>\n",
       "      <th>slug</th>\n",
       "      <th>cod_eleicao</th>\n",
       "      <th>...</th>\n",
       "      <th>eleitorado</th>\n",
       "      <th>eleitorado_apurado</th>\n",
       "      <th>comparecimento</th>\n",
       "      <th>abstencao</th>\n",
       "      <th>total_de_votos</th>\n",
       "      <th>votos_brancos</th>\n",
       "      <th>votos_nulos</th>\n",
       "      <th>votos_validos</th>\n",
       "      <th>votos_legenda</th>\n",
       "      <th>votos_nominais</th>\n",
       "    </tr>\n",
       "  </thead>\n",
       "  <tbody>\n",
       "    <tr>\n",
       "      <th>26207</th>\n",
       "      <td>280000614517</td>\n",
       "      <td>17</td>\n",
       "      <td>Jair Bolsonaro</td>\n",
       "      <td>PSL</td>\n",
       "      <td>n</td>\n",
       "      <td>49276897</td>\n",
       "      <td>Deferido</td>\n",
       "      <td>Presidente</td>\n",
       "      <td>presidente-br</td>\n",
       "      <td>295</td>\n",
       "      <td>...</td>\n",
       "      <td>147306295</td>\n",
       "      <td>147305035</td>\n",
       "      <td>117364414</td>\n",
       "      <td>29940621</td>\n",
       "      <td>117364414</td>\n",
       "      <td>3106936</td>\n",
       "      <td>7206202</td>\n",
       "      <td>107050530</td>\n",
       "      <td>0</td>\n",
       "      <td>107050530</td>\n",
       "    </tr>\n",
       "    <tr>\n",
       "      <th>26208</th>\n",
       "      <td>280000629808</td>\n",
       "      <td>13</td>\n",
       "      <td>Fernando Haddad</td>\n",
       "      <td>PT</td>\n",
       "      <td>n</td>\n",
       "      <td>31341997</td>\n",
       "      <td>Deferido</td>\n",
       "      <td>Presidente</td>\n",
       "      <td>presidente-br</td>\n",
       "      <td>295</td>\n",
       "      <td>...</td>\n",
       "      <td>147306295</td>\n",
       "      <td>147305035</td>\n",
       "      <td>117364414</td>\n",
       "      <td>29940621</td>\n",
       "      <td>117364414</td>\n",
       "      <td>3106936</td>\n",
       "      <td>7206202</td>\n",
       "      <td>107050530</td>\n",
       "      <td>0</td>\n",
       "      <td>107050530</td>\n",
       "    </tr>\n",
       "    <tr>\n",
       "      <th>26209</th>\n",
       "      <td>280000605589</td>\n",
       "      <td>12</td>\n",
       "      <td>Ciro Gomes</td>\n",
       "      <td>PDT</td>\n",
       "      <td>n</td>\n",
       "      <td>13344353</td>\n",
       "      <td>Deferido</td>\n",
       "      <td>Presidente</td>\n",
       "      <td>presidente-br</td>\n",
       "      <td>295</td>\n",
       "      <td>...</td>\n",
       "      <td>147306295</td>\n",
       "      <td>147305035</td>\n",
       "      <td>117364414</td>\n",
       "      <td>29940621</td>\n",
       "      <td>117364414</td>\n",
       "      <td>3106936</td>\n",
       "      <td>7206202</td>\n",
       "      <td>107050530</td>\n",
       "      <td>0</td>\n",
       "      <td>107050530</td>\n",
       "    </tr>\n",
       "    <tr>\n",
       "      <th>26210</th>\n",
       "      <td>280000602477</td>\n",
       "      <td>45</td>\n",
       "      <td>Geraldo Alckmin</td>\n",
       "      <td>PSDB</td>\n",
       "      <td>n</td>\n",
       "      <td>5096341</td>\n",
       "      <td>Deferido</td>\n",
       "      <td>Presidente</td>\n",
       "      <td>presidente-br</td>\n",
       "      <td>295</td>\n",
       "      <td>...</td>\n",
       "      <td>147306295</td>\n",
       "      <td>147305035</td>\n",
       "      <td>117364414</td>\n",
       "      <td>29940621</td>\n",
       "      <td>117364414</td>\n",
       "      <td>3106936</td>\n",
       "      <td>7206202</td>\n",
       "      <td>107050530</td>\n",
       "      <td>0</td>\n",
       "      <td>107050530</td>\n",
       "    </tr>\n",
       "    <tr>\n",
       "      <th>26211</th>\n",
       "      <td>280000607640</td>\n",
       "      <td>30</td>\n",
       "      <td>João Amoêdo</td>\n",
       "      <td>Novo</td>\n",
       "      <td>n</td>\n",
       "      <td>2679728</td>\n",
       "      <td>Deferido</td>\n",
       "      <td>Presidente</td>\n",
       "      <td>presidente-br</td>\n",
       "      <td>295</td>\n",
       "      <td>...</td>\n",
       "      <td>147306295</td>\n",
       "      <td>147305035</td>\n",
       "      <td>117364414</td>\n",
       "      <td>29940621</td>\n",
       "      <td>117364414</td>\n",
       "      <td>3106936</td>\n",
       "      <td>7206202</td>\n",
       "      <td>107050530</td>\n",
       "      <td>0</td>\n",
       "      <td>107050530</td>\n",
       "    </tr>\n",
       "  </tbody>\n",
       "</table>\n",
       "<p>5 rows × 34 columns</p>\n",
       "</div>"
      ],
      "text/plain": [
       "       id_candidato  numero        candidato partido eleito  \\\n",
       "26207  280000614517      17   Jair Bolsonaro     PSL      n   \n",
       "26208  280000629808      13  Fernando Haddad      PT      n   \n",
       "26209  280000605589      12       Ciro Gomes     PDT      n   \n",
       "26210  280000602477      45  Geraldo Alckmin    PSDB      n   \n",
       "26211  280000607640      30      João Amoêdo    Novo      n   \n",
       "\n",
       "       votos_totalizados  situacao       cargo           slug  cod_eleicao  \\\n",
       "26207           49276897  Deferido  Presidente  presidente-br          295   \n",
       "26208           31341997  Deferido  Presidente  presidente-br          295   \n",
       "26209           13344353  Deferido  Presidente  presidente-br          295   \n",
       "26210            5096341  Deferido  Presidente  presidente-br          295   \n",
       "26211            2679728  Deferido  Presidente  presidente-br          295   \n",
       "\n",
       "       ... eleitorado eleitorado_apurado  comparecimento  abstencao  \\\n",
       "26207  ...  147306295          147305035       117364414   29940621   \n",
       "26208  ...  147306295          147305035       117364414   29940621   \n",
       "26209  ...  147306295          147305035       117364414   29940621   \n",
       "26210  ...  147306295          147305035       117364414   29940621   \n",
       "26211  ...  147306295          147305035       117364414   29940621   \n",
       "\n",
       "      total_de_votos votos_brancos votos_nulos votos_validos  votos_legenda  \\\n",
       "26207      117364414       3106936     7206202     107050530              0   \n",
       "26208      117364414       3106936     7206202     107050530              0   \n",
       "26209      117364414       3106936     7206202     107050530              0   \n",
       "26210      117364414       3106936     7206202     107050530              0   \n",
       "26211      117364414       3106936     7206202     107050530              0   \n",
       "\n",
       "      votos_nominais  \n",
       "26207      107050530  \n",
       "26208      107050530  \n",
       "26209      107050530  \n",
       "26210      107050530  \n",
       "26211      107050530  \n",
       "\n",
       "[5 rows x 34 columns]"
      ]
     },
     "metadata": {},
     "output_type": "display_data"
    }
   ],
   "source": [
    "mais_vt = tabela.nlargest(5, 'votos_nominais')\n",
    "display(mais_vt)"
   ]
  },
  {
   "cell_type": "code",
   "execution_count": 34,
   "metadata": {},
   "outputs": [
    {
     "data": {
      "text/html": [
       "<div>\n",
       "<style scoped>\n",
       "    .dataframe tbody tr th:only-of-type {\n",
       "        vertical-align: middle;\n",
       "    }\n",
       "\n",
       "    .dataframe tbody tr th {\n",
       "        vertical-align: top;\n",
       "    }\n",
       "\n",
       "    .dataframe thead th {\n",
       "        text-align: right;\n",
       "    }\n",
       "</style>\n",
       "<table border=\"1\" class=\"dataframe\">\n",
       "  <thead>\n",
       "    <tr style=\"text-align: right;\">\n",
       "      <th></th>\n",
       "      <th>id_candidato</th>\n",
       "      <th>numero</th>\n",
       "      <th>candidato</th>\n",
       "      <th>partido</th>\n",
       "      <th>eleito</th>\n",
       "      <th>votos_totalizados</th>\n",
       "      <th>situacao</th>\n",
       "      <th>cargo</th>\n",
       "      <th>slug</th>\n",
       "      <th>cod_eleicao</th>\n",
       "      <th>...</th>\n",
       "      <th>eleitorado</th>\n",
       "      <th>eleitorado_apurado</th>\n",
       "      <th>comparecimento</th>\n",
       "      <th>abstencao</th>\n",
       "      <th>total_de_votos</th>\n",
       "      <th>votos_brancos</th>\n",
       "      <th>votos_nulos</th>\n",
       "      <th>votos_validos</th>\n",
       "      <th>votos_legenda</th>\n",
       "      <th>votos_nominais</th>\n",
       "    </tr>\n",
       "  </thead>\n",
       "  <tbody>\n",
       "    <tr>\n",
       "      <th>26207</th>\n",
       "      <td>280000614517</td>\n",
       "      <td>17</td>\n",
       "      <td>Jair Bolsonaro</td>\n",
       "      <td>PSL</td>\n",
       "      <td>n</td>\n",
       "      <td>49276897</td>\n",
       "      <td>Deferido</td>\n",
       "      <td>Presidente</td>\n",
       "      <td>presidente-br</td>\n",
       "      <td>295</td>\n",
       "      <td>...</td>\n",
       "      <td>147306295</td>\n",
       "      <td>147305035</td>\n",
       "      <td>117364414</td>\n",
       "      <td>29940621</td>\n",
       "      <td>117364414</td>\n",
       "      <td>3106936</td>\n",
       "      <td>7206202</td>\n",
       "      <td>107050530</td>\n",
       "      <td>0</td>\n",
       "      <td>107050530</td>\n",
       "    </tr>\n",
       "    <tr>\n",
       "      <th>26208</th>\n",
       "      <td>280000629808</td>\n",
       "      <td>13</td>\n",
       "      <td>Fernando Haddad</td>\n",
       "      <td>PT</td>\n",
       "      <td>n</td>\n",
       "      <td>31341997</td>\n",
       "      <td>Deferido</td>\n",
       "      <td>Presidente</td>\n",
       "      <td>presidente-br</td>\n",
       "      <td>295</td>\n",
       "      <td>...</td>\n",
       "      <td>147306295</td>\n",
       "      <td>147305035</td>\n",
       "      <td>117364414</td>\n",
       "      <td>29940621</td>\n",
       "      <td>117364414</td>\n",
       "      <td>3106936</td>\n",
       "      <td>7206202</td>\n",
       "      <td>107050530</td>\n",
       "      <td>0</td>\n",
       "      <td>107050530</td>\n",
       "    </tr>\n",
       "    <tr>\n",
       "      <th>26209</th>\n",
       "      <td>280000605589</td>\n",
       "      <td>12</td>\n",
       "      <td>Ciro Gomes</td>\n",
       "      <td>PDT</td>\n",
       "      <td>n</td>\n",
       "      <td>13344353</td>\n",
       "      <td>Deferido</td>\n",
       "      <td>Presidente</td>\n",
       "      <td>presidente-br</td>\n",
       "      <td>295</td>\n",
       "      <td>...</td>\n",
       "      <td>147306295</td>\n",
       "      <td>147305035</td>\n",
       "      <td>117364414</td>\n",
       "      <td>29940621</td>\n",
       "      <td>117364414</td>\n",
       "      <td>3106936</td>\n",
       "      <td>7206202</td>\n",
       "      <td>107050530</td>\n",
       "      <td>0</td>\n",
       "      <td>107050530</td>\n",
       "    </tr>\n",
       "    <tr>\n",
       "      <th>26480</th>\n",
       "      <td>280000614517</td>\n",
       "      <td>17</td>\n",
       "      <td>Jair Bolsonaro</td>\n",
       "      <td>PSL</td>\n",
       "      <td>n</td>\n",
       "      <td>12378012</td>\n",
       "      <td>Deferido</td>\n",
       "      <td>Presidente</td>\n",
       "      <td>presidente-sp</td>\n",
       "      <td>295</td>\n",
       "      <td>...</td>\n",
       "      <td>33042545</td>\n",
       "      <td>33042545</td>\n",
       "      <td>25930749</td>\n",
       "      <td>7111796</td>\n",
       "      <td>25930749</td>\n",
       "      <td>837211</td>\n",
       "      <td>1740759</td>\n",
       "      <td>23352779</td>\n",
       "      <td>0</td>\n",
       "      <td>23352779</td>\n",
       "    </tr>\n",
       "    <tr>\n",
       "      <th>26829</th>\n",
       "      <td>250000615466</td>\n",
       "      <td>177</td>\n",
       "      <td>Major Olimpio</td>\n",
       "      <td>PSL</td>\n",
       "      <td>s</td>\n",
       "      <td>9039717</td>\n",
       "      <td>Deferido</td>\n",
       "      <td>Senador</td>\n",
       "      <td>senador-sp</td>\n",
       "      <td>297</td>\n",
       "      <td>...</td>\n",
       "      <td>33032372</td>\n",
       "      <td>33032372</td>\n",
       "      <td>25921320</td>\n",
       "      <td>7111052</td>\n",
       "      <td>51842640</td>\n",
       "      <td>5599960</td>\n",
       "      <td>10925931</td>\n",
       "      <td>35029120</td>\n",
       "      <td>0</td>\n",
       "      <td>35029120</td>\n",
       "    </tr>\n",
       "  </tbody>\n",
       "</table>\n",
       "<p>5 rows × 34 columns</p>\n",
       "</div>"
      ],
      "text/plain": [
       "       id_candidato  numero        candidato partido eleito  \\\n",
       "26207  280000614517      17   Jair Bolsonaro     PSL      n   \n",
       "26208  280000629808      13  Fernando Haddad      PT      n   \n",
       "26209  280000605589      12       Ciro Gomes     PDT      n   \n",
       "26480  280000614517      17   Jair Bolsonaro     PSL      n   \n",
       "26829  250000615466     177    Major Olimpio     PSL      s   \n",
       "\n",
       "       votos_totalizados  situacao       cargo           slug  cod_eleicao  \\\n",
       "26207           49276897  Deferido  Presidente  presidente-br          295   \n",
       "26208           31341997  Deferido  Presidente  presidente-br          295   \n",
       "26209           13344353  Deferido  Presidente  presidente-br          295   \n",
       "26480           12378012  Deferido  Presidente  presidente-sp          295   \n",
       "26829            9039717  Deferido     Senador     senador-sp          297   \n",
       "\n",
       "       ... eleitorado eleitorado_apurado  comparecimento  abstencao  \\\n",
       "26207  ...  147306295          147305035       117364414   29940621   \n",
       "26208  ...  147306295          147305035       117364414   29940621   \n",
       "26209  ...  147306295          147305035       117364414   29940621   \n",
       "26480  ...   33042545           33042545        25930749    7111796   \n",
       "26829  ...   33032372           33032372        25921320    7111052   \n",
       "\n",
       "      total_de_votos votos_brancos votos_nulos votos_validos  votos_legenda  \\\n",
       "26207      117364414       3106936     7206202     107050530              0   \n",
       "26208      117364414       3106936     7206202     107050530              0   \n",
       "26209      117364414       3106936     7206202     107050530              0   \n",
       "26480       25930749        837211     1740759      23352779              0   \n",
       "26829       51842640       5599960    10925931      35029120              0   \n",
       "\n",
       "      votos_nominais  \n",
       "26207      107050530  \n",
       "26208      107050530  \n",
       "26209      107050530  \n",
       "26480       23352779  \n",
       "26829       35029120  \n",
       "\n",
       "[5 rows x 34 columns]"
      ]
     },
     "metadata": {},
     "output_type": "display_data"
    }
   ],
   "source": [
    "mais_vts = tabela.nlargest(5,\"votos_totalizados\")\n",
    "display(mais_vts)"
   ]
  },
  {
   "cell_type": "code",
   "execution_count": null,
   "metadata": {},
   "outputs": [
    {
     "data": {
      "application/vnd.plotly.v1+json": {
       "config": {
        "plotlyServerURL": "https://plot.ly"
       },
       "data": [
        {
         "alignmentgroup": "True",
         "hovertemplate": "Tipo=%{x}<br>Número de Eleitores=%{text}<extra></extra>",
         "legendgroup": "Comparecimento",
         "marker": {
          "color": "#636efa",
          "pattern": {
           "shape": ""
          }
         },
         "name": "Comparecimento",
         "offsetgroup": "Comparecimento",
         "orientation": "v",
         "showlegend": true,
         "text": [
          218556858805
         ],
         "textposition": "outside",
         "texttemplate": "%{text:.2s}",
         "type": "bar",
         "x": [
          "Comparecimento"
         ],
         "xaxis": "x",
         "y": [
          218556858805
         ],
         "yaxis": "y"
        },
        {
         "alignmentgroup": "True",
         "hovertemplate": "Tipo=%{x}<br>Número de Eleitores=%{text}<extra></extra>",
         "legendgroup": "Abstenção",
         "marker": {
          "color": "#EF553B",
          "pattern": {
           "shape": ""
          }
         },
         "name": "Abstenção",
         "offsetgroup": "Abstenção",
         "orientation": "v",
         "showlegend": true,
         "text": [
          58700250912
         ],
         "textposition": "outside",
         "texttemplate": "%{text:.2s}",
         "type": "bar",
         "x": [
          "Abstenção"
         ],
         "xaxis": "x",
         "y": [
          58700250912
         ],
         "yaxis": "y"
        }
       ],
       "layout": {
        "barmode": "relative",
        "legend": {
         "title": {
          "text": "Tipo"
         },
         "tracegroupgap": 0
        },
        "template": {
         "data": {
          "bar": [
           {
            "error_x": {
             "color": "#2a3f5f"
            },
            "error_y": {
             "color": "#2a3f5f"
            },
            "marker": {
             "line": {
              "color": "#E5ECF6",
              "width": 0.5
             },
             "pattern": {
              "fillmode": "overlay",
              "size": 10,
              "solidity": 0.2
             }
            },
            "type": "bar"
           }
          ],
          "barpolar": [
           {
            "marker": {
             "line": {
              "color": "#E5ECF6",
              "width": 0.5
             },
             "pattern": {
              "fillmode": "overlay",
              "size": 10,
              "solidity": 0.2
             }
            },
            "type": "barpolar"
           }
          ],
          "carpet": [
           {
            "aaxis": {
             "endlinecolor": "#2a3f5f",
             "gridcolor": "white",
             "linecolor": "white",
             "minorgridcolor": "white",
             "startlinecolor": "#2a3f5f"
            },
            "baxis": {
             "endlinecolor": "#2a3f5f",
             "gridcolor": "white",
             "linecolor": "white",
             "minorgridcolor": "white",
             "startlinecolor": "#2a3f5f"
            },
            "type": "carpet"
           }
          ],
          "choropleth": [
           {
            "colorbar": {
             "outlinewidth": 0,
             "ticks": ""
            },
            "type": "choropleth"
           }
          ],
          "contour": [
           {
            "colorbar": {
             "outlinewidth": 0,
             "ticks": ""
            },
            "colorscale": [
             [
              0,
              "#0d0887"
             ],
             [
              0.1111111111111111,
              "#46039f"
             ],
             [
              0.2222222222222222,
              "#7201a8"
             ],
             [
              0.3333333333333333,
              "#9c179e"
             ],
             [
              0.4444444444444444,
              "#bd3786"
             ],
             [
              0.5555555555555556,
              "#d8576b"
             ],
             [
              0.6666666666666666,
              "#ed7953"
             ],
             [
              0.7777777777777778,
              "#fb9f3a"
             ],
             [
              0.8888888888888888,
              "#fdca26"
             ],
             [
              1,
              "#f0f921"
             ]
            ],
            "type": "contour"
           }
          ],
          "contourcarpet": [
           {
            "colorbar": {
             "outlinewidth": 0,
             "ticks": ""
            },
            "type": "contourcarpet"
           }
          ],
          "heatmap": [
           {
            "colorbar": {
             "outlinewidth": 0,
             "ticks": ""
            },
            "colorscale": [
             [
              0,
              "#0d0887"
             ],
             [
              0.1111111111111111,
              "#46039f"
             ],
             [
              0.2222222222222222,
              "#7201a8"
             ],
             [
              0.3333333333333333,
              "#9c179e"
             ],
             [
              0.4444444444444444,
              "#bd3786"
             ],
             [
              0.5555555555555556,
              "#d8576b"
             ],
             [
              0.6666666666666666,
              "#ed7953"
             ],
             [
              0.7777777777777778,
              "#fb9f3a"
             ],
             [
              0.8888888888888888,
              "#fdca26"
             ],
             [
              1,
              "#f0f921"
             ]
            ],
            "type": "heatmap"
           }
          ],
          "heatmapgl": [
           {
            "colorbar": {
             "outlinewidth": 0,
             "ticks": ""
            },
            "colorscale": [
             [
              0,
              "#0d0887"
             ],
             [
              0.1111111111111111,
              "#46039f"
             ],
             [
              0.2222222222222222,
              "#7201a8"
             ],
             [
              0.3333333333333333,
              "#9c179e"
             ],
             [
              0.4444444444444444,
              "#bd3786"
             ],
             [
              0.5555555555555556,
              "#d8576b"
             ],
             [
              0.6666666666666666,
              "#ed7953"
             ],
             [
              0.7777777777777778,
              "#fb9f3a"
             ],
             [
              0.8888888888888888,
              "#fdca26"
             ],
             [
              1,
              "#f0f921"
             ]
            ],
            "type": "heatmapgl"
           }
          ],
          "histogram": [
           {
            "marker": {
             "pattern": {
              "fillmode": "overlay",
              "size": 10,
              "solidity": 0.2
             }
            },
            "type": "histogram"
           }
          ],
          "histogram2d": [
           {
            "colorbar": {
             "outlinewidth": 0,
             "ticks": ""
            },
            "colorscale": [
             [
              0,
              "#0d0887"
             ],
             [
              0.1111111111111111,
              "#46039f"
             ],
             [
              0.2222222222222222,
              "#7201a8"
             ],
             [
              0.3333333333333333,
              "#9c179e"
             ],
             [
              0.4444444444444444,
              "#bd3786"
             ],
             [
              0.5555555555555556,
              "#d8576b"
             ],
             [
              0.6666666666666666,
              "#ed7953"
             ],
             [
              0.7777777777777778,
              "#fb9f3a"
             ],
             [
              0.8888888888888888,
              "#fdca26"
             ],
             [
              1,
              "#f0f921"
             ]
            ],
            "type": "histogram2d"
           }
          ],
          "histogram2dcontour": [
           {
            "colorbar": {
             "outlinewidth": 0,
             "ticks": ""
            },
            "colorscale": [
             [
              0,
              "#0d0887"
             ],
             [
              0.1111111111111111,
              "#46039f"
             ],
             [
              0.2222222222222222,
              "#7201a8"
             ],
             [
              0.3333333333333333,
              "#9c179e"
             ],
             [
              0.4444444444444444,
              "#bd3786"
             ],
             [
              0.5555555555555556,
              "#d8576b"
             ],
             [
              0.6666666666666666,
              "#ed7953"
             ],
             [
              0.7777777777777778,
              "#fb9f3a"
             ],
             [
              0.8888888888888888,
              "#fdca26"
             ],
             [
              1,
              "#f0f921"
             ]
            ],
            "type": "histogram2dcontour"
           }
          ],
          "mesh3d": [
           {
            "colorbar": {
             "outlinewidth": 0,
             "ticks": ""
            },
            "type": "mesh3d"
           }
          ],
          "parcoords": [
           {
            "line": {
             "colorbar": {
              "outlinewidth": 0,
              "ticks": ""
             }
            },
            "type": "parcoords"
           }
          ],
          "pie": [
           {
            "automargin": true,
            "type": "pie"
           }
          ],
          "scatter": [
           {
            "fillpattern": {
             "fillmode": "overlay",
             "size": 10,
             "solidity": 0.2
            },
            "type": "scatter"
           }
          ],
          "scatter3d": [
           {
            "line": {
             "colorbar": {
              "outlinewidth": 0,
              "ticks": ""
             }
            },
            "marker": {
             "colorbar": {
              "outlinewidth": 0,
              "ticks": ""
             }
            },
            "type": "scatter3d"
           }
          ],
          "scattercarpet": [
           {
            "marker": {
             "colorbar": {
              "outlinewidth": 0,
              "ticks": ""
             }
            },
            "type": "scattercarpet"
           }
          ],
          "scattergeo": [
           {
            "marker": {
             "colorbar": {
              "outlinewidth": 0,
              "ticks": ""
             }
            },
            "type": "scattergeo"
           }
          ],
          "scattergl": [
           {
            "marker": {
             "colorbar": {
              "outlinewidth": 0,
              "ticks": ""
             }
            },
            "type": "scattergl"
           }
          ],
          "scattermapbox": [
           {
            "marker": {
             "colorbar": {
              "outlinewidth": 0,
              "ticks": ""
             }
            },
            "type": "scattermapbox"
           }
          ],
          "scatterpolar": [
           {
            "marker": {
             "colorbar": {
              "outlinewidth": 0,
              "ticks": ""
             }
            },
            "type": "scatterpolar"
           }
          ],
          "scatterpolargl": [
           {
            "marker": {
             "colorbar": {
              "outlinewidth": 0,
              "ticks": ""
             }
            },
            "type": "scatterpolargl"
           }
          ],
          "scatterternary": [
           {
            "marker": {
             "colorbar": {
              "outlinewidth": 0,
              "ticks": ""
             }
            },
            "type": "scatterternary"
           }
          ],
          "surface": [
           {
            "colorbar": {
             "outlinewidth": 0,
             "ticks": ""
            },
            "colorscale": [
             [
              0,
              "#0d0887"
             ],
             [
              0.1111111111111111,
              "#46039f"
             ],
             [
              0.2222222222222222,
              "#7201a8"
             ],
             [
              0.3333333333333333,
              "#9c179e"
             ],
             [
              0.4444444444444444,
              "#bd3786"
             ],
             [
              0.5555555555555556,
              "#d8576b"
             ],
             [
              0.6666666666666666,
              "#ed7953"
             ],
             [
              0.7777777777777778,
              "#fb9f3a"
             ],
             [
              0.8888888888888888,
              "#fdca26"
             ],
             [
              1,
              "#f0f921"
             ]
            ],
            "type": "surface"
           }
          ],
          "table": [
           {
            "cells": {
             "fill": {
              "color": "#EBF0F8"
             },
             "line": {
              "color": "white"
             }
            },
            "header": {
             "fill": {
              "color": "#C8D4E3"
             },
             "line": {
              "color": "white"
             }
            },
            "type": "table"
           }
          ]
         },
         "layout": {
          "annotationdefaults": {
           "arrowcolor": "#2a3f5f",
           "arrowhead": 0,
           "arrowwidth": 1
          },
          "autotypenumbers": "strict",
          "coloraxis": {
           "colorbar": {
            "outlinewidth": 0,
            "ticks": ""
           }
          },
          "colorscale": {
           "diverging": [
            [
             0,
             "#8e0152"
            ],
            [
             0.1,
             "#c51b7d"
            ],
            [
             0.2,
             "#de77ae"
            ],
            [
             0.3,
             "#f1b6da"
            ],
            [
             0.4,
             "#fde0ef"
            ],
            [
             0.5,
             "#f7f7f7"
            ],
            [
             0.6,
             "#e6f5d0"
            ],
            [
             0.7,
             "#b8e186"
            ],
            [
             0.8,
             "#7fbc41"
            ],
            [
             0.9,
             "#4d9221"
            ],
            [
             1,
             "#276419"
            ]
           ],
           "sequential": [
            [
             0,
             "#0d0887"
            ],
            [
             0.1111111111111111,
             "#46039f"
            ],
            [
             0.2222222222222222,
             "#7201a8"
            ],
            [
             0.3333333333333333,
             "#9c179e"
            ],
            [
             0.4444444444444444,
             "#bd3786"
            ],
            [
             0.5555555555555556,
             "#d8576b"
            ],
            [
             0.6666666666666666,
             "#ed7953"
            ],
            [
             0.7777777777777778,
             "#fb9f3a"
            ],
            [
             0.8888888888888888,
             "#fdca26"
            ],
            [
             1,
             "#f0f921"
            ]
           ],
           "sequentialminus": [
            [
             0,
             "#0d0887"
            ],
            [
             0.1111111111111111,
             "#46039f"
            ],
            [
             0.2222222222222222,
             "#7201a8"
            ],
            [
             0.3333333333333333,
             "#9c179e"
            ],
            [
             0.4444444444444444,
             "#bd3786"
            ],
            [
             0.5555555555555556,
             "#d8576b"
            ],
            [
             0.6666666666666666,
             "#ed7953"
            ],
            [
             0.7777777777777778,
             "#fb9f3a"
            ],
            [
             0.8888888888888888,
             "#fdca26"
            ],
            [
             1,
             "#f0f921"
            ]
           ]
          },
          "colorway": [
           "#636efa",
           "#EF553B",
           "#00cc96",
           "#ab63fa",
           "#FFA15A",
           "#19d3f3",
           "#FF6692",
           "#B6E880",
           "#FF97FF",
           "#FECB52"
          ],
          "font": {
           "color": "#2a3f5f"
          },
          "geo": {
           "bgcolor": "white",
           "lakecolor": "white",
           "landcolor": "#E5ECF6",
           "showlakes": true,
           "showland": true,
           "subunitcolor": "white"
          },
          "hoverlabel": {
           "align": "left"
          },
          "hovermode": "closest",
          "mapbox": {
           "style": "light"
          },
          "paper_bgcolor": "white",
          "plot_bgcolor": "#E5ECF6",
          "polar": {
           "angularaxis": {
            "gridcolor": "white",
            "linecolor": "white",
            "ticks": ""
           },
           "bgcolor": "#E5ECF6",
           "radialaxis": {
            "gridcolor": "white",
            "linecolor": "white",
            "ticks": ""
           }
          },
          "scene": {
           "xaxis": {
            "backgroundcolor": "#E5ECF6",
            "gridcolor": "white",
            "gridwidth": 2,
            "linecolor": "white",
            "showbackground": true,
            "ticks": "",
            "zerolinecolor": "white"
           },
           "yaxis": {
            "backgroundcolor": "#E5ECF6",
            "gridcolor": "white",
            "gridwidth": 2,
            "linecolor": "white",
            "showbackground": true,
            "ticks": "",
            "zerolinecolor": "white"
           },
           "zaxis": {
            "backgroundcolor": "#E5ECF6",
            "gridcolor": "white",
            "gridwidth": 2,
            "linecolor": "white",
            "showbackground": true,
            "ticks": "",
            "zerolinecolor": "white"
           }
          },
          "shapedefaults": {
           "line": {
            "color": "#2a3f5f"
           }
          },
          "ternary": {
           "aaxis": {
            "gridcolor": "white",
            "linecolor": "white",
            "ticks": ""
           },
           "baxis": {
            "gridcolor": "white",
            "linecolor": "white",
            "ticks": ""
           },
           "bgcolor": "#E5ECF6",
           "caxis": {
            "gridcolor": "white",
            "linecolor": "white",
            "ticks": ""
           }
          },
          "title": {
           "x": 0.05
          },
          "xaxis": {
           "automargin": true,
           "gridcolor": "white",
           "linecolor": "white",
           "ticks": "",
           "title": {
            "standoff": 15
           },
           "zerolinecolor": "white",
           "zerolinewidth": 2
          },
          "yaxis": {
           "automargin": true,
           "gridcolor": "white",
           "linecolor": "white",
           "ticks": "",
           "title": {
            "standoff": 15
           },
           "zerolinecolor": "white",
           "zerolinewidth": 2
          }
         }
        },
        "title": {
         "text": "Comparação entre Comparecimento e Abstenção"
        },
        "xaxis": {
         "anchor": "y",
         "categoryarray": [
          "Comparecimento",
          "Abstenção"
         ],
         "categoryorder": "array",
         "domain": [
          0,
          1
         ],
         "title": {
          "text": "Tipo"
         }
        },
        "yaxis": {
         "anchor": "x",
         "domain": [
          0,
          1
         ],
         "title": {
          "text": "Número de Eleitores"
         }
        }
       }
      }
     },
     "metadata": {},
     "output_type": "display_data"
    }
   ],
   "source": [
    "import plotly.express as px\n",
    "\n",
    "\n",
    "total_comparecimento = tabela['comparecimento'].sum()\n",
    "total_abstencao = tabela['abstencao'].sum()\n",
    "\n",
    "\n",
    "data = {\n",
    "    'Tipo': ['Comparecimento', 'Abstenção'],\n",
    "    'Quantidade': [total_comparecimento, total_abstencao]\n",
    "}\n",
    "\n",
    "df_comparacao = pd.DataFrame(data)\n",
    "\n",
    "\n",
    "grafico = px.bar(df_comparacao, x='Tipo', y='Quantidade',\n",
    "                 title='Comparação entre Comparecimento e Abstenção',\n",
    "                 color='Tipo',\n",
    "                 labels={'Quantidade': 'Número de Eleitores'},\n",
    "                 text='Quantidade')\n",
    "\n",
    "grafico.update_traces(texttemplate='%{text:.2s}', textposition='outside')\n",
    "\n",
    "grafico.show()\n"
   ]
  },
  {
   "cell_type": "markdown",
   "metadata": {},
   "source": [
    "Gráficos "
   ]
  },
  {
   "cell_type": "code",
   "execution_count": 3,
   "metadata": {},
   "outputs": [
    {
     "data": {
      "application/vnd.plotly.v1+json": {
       "config": {
        "plotlyServerURL": "https://plot.ly"
       },
       "data": [
        {
         "hovertemplate": "x=%{x}<br>y=%{y}<extra></extra>",
         "legendgroup": "",
         "line": {
          "color": "#636efa",
          "dash": "solid"
         },
         "marker": {
          "symbol": "circle"
         },
         "mode": "lines",
         "name": "",
         "orientation": "v",
         "showlegend": false,
         "type": "scatter",
         "x": [
          2018,
          2019,
          2020,
          2021
         ],
         "xaxis": "x",
         "y": [
          25,
          50,
          10,
          2
         ],
         "yaxis": "y"
        }
       ],
       "layout": {
        "legend": {
         "tracegroupgap": 0
        },
        "template": {
         "data": {
          "bar": [
           {
            "error_x": {
             "color": "#2a3f5f"
            },
            "error_y": {
             "color": "#2a3f5f"
            },
            "marker": {
             "line": {
              "color": "#E5ECF6",
              "width": 0.5
             },
             "pattern": {
              "fillmode": "overlay",
              "size": 10,
              "solidity": 0.2
             }
            },
            "type": "bar"
           }
          ],
          "barpolar": [
           {
            "marker": {
             "line": {
              "color": "#E5ECF6",
              "width": 0.5
             },
             "pattern": {
              "fillmode": "overlay",
              "size": 10,
              "solidity": 0.2
             }
            },
            "type": "barpolar"
           }
          ],
          "carpet": [
           {
            "aaxis": {
             "endlinecolor": "#2a3f5f",
             "gridcolor": "white",
             "linecolor": "white",
             "minorgridcolor": "white",
             "startlinecolor": "#2a3f5f"
            },
            "baxis": {
             "endlinecolor": "#2a3f5f",
             "gridcolor": "white",
             "linecolor": "white",
             "minorgridcolor": "white",
             "startlinecolor": "#2a3f5f"
            },
            "type": "carpet"
           }
          ],
          "choropleth": [
           {
            "colorbar": {
             "outlinewidth": 0,
             "ticks": ""
            },
            "type": "choropleth"
           }
          ],
          "contour": [
           {
            "colorbar": {
             "outlinewidth": 0,
             "ticks": ""
            },
            "colorscale": [
             [
              0,
              "#0d0887"
             ],
             [
              0.1111111111111111,
              "#46039f"
             ],
             [
              0.2222222222222222,
              "#7201a8"
             ],
             [
              0.3333333333333333,
              "#9c179e"
             ],
             [
              0.4444444444444444,
              "#bd3786"
             ],
             [
              0.5555555555555556,
              "#d8576b"
             ],
             [
              0.6666666666666666,
              "#ed7953"
             ],
             [
              0.7777777777777778,
              "#fb9f3a"
             ],
             [
              0.8888888888888888,
              "#fdca26"
             ],
             [
              1,
              "#f0f921"
             ]
            ],
            "type": "contour"
           }
          ],
          "contourcarpet": [
           {
            "colorbar": {
             "outlinewidth": 0,
             "ticks": ""
            },
            "type": "contourcarpet"
           }
          ],
          "heatmap": [
           {
            "colorbar": {
             "outlinewidth": 0,
             "ticks": ""
            },
            "colorscale": [
             [
              0,
              "#0d0887"
             ],
             [
              0.1111111111111111,
              "#46039f"
             ],
             [
              0.2222222222222222,
              "#7201a8"
             ],
             [
              0.3333333333333333,
              "#9c179e"
             ],
             [
              0.4444444444444444,
              "#bd3786"
             ],
             [
              0.5555555555555556,
              "#d8576b"
             ],
             [
              0.6666666666666666,
              "#ed7953"
             ],
             [
              0.7777777777777778,
              "#fb9f3a"
             ],
             [
              0.8888888888888888,
              "#fdca26"
             ],
             [
              1,
              "#f0f921"
             ]
            ],
            "type": "heatmap"
           }
          ],
          "heatmapgl": [
           {
            "colorbar": {
             "outlinewidth": 0,
             "ticks": ""
            },
            "colorscale": [
             [
              0,
              "#0d0887"
             ],
             [
              0.1111111111111111,
              "#46039f"
             ],
             [
              0.2222222222222222,
              "#7201a8"
             ],
             [
              0.3333333333333333,
              "#9c179e"
             ],
             [
              0.4444444444444444,
              "#bd3786"
             ],
             [
              0.5555555555555556,
              "#d8576b"
             ],
             [
              0.6666666666666666,
              "#ed7953"
             ],
             [
              0.7777777777777778,
              "#fb9f3a"
             ],
             [
              0.8888888888888888,
              "#fdca26"
             ],
             [
              1,
              "#f0f921"
             ]
            ],
            "type": "heatmapgl"
           }
          ],
          "histogram": [
           {
            "marker": {
             "pattern": {
              "fillmode": "overlay",
              "size": 10,
              "solidity": 0.2
             }
            },
            "type": "histogram"
           }
          ],
          "histogram2d": [
           {
            "colorbar": {
             "outlinewidth": 0,
             "ticks": ""
            },
            "colorscale": [
             [
              0,
              "#0d0887"
             ],
             [
              0.1111111111111111,
              "#46039f"
             ],
             [
              0.2222222222222222,
              "#7201a8"
             ],
             [
              0.3333333333333333,
              "#9c179e"
             ],
             [
              0.4444444444444444,
              "#bd3786"
             ],
             [
              0.5555555555555556,
              "#d8576b"
             ],
             [
              0.6666666666666666,
              "#ed7953"
             ],
             [
              0.7777777777777778,
              "#fb9f3a"
             ],
             [
              0.8888888888888888,
              "#fdca26"
             ],
             [
              1,
              "#f0f921"
             ]
            ],
            "type": "histogram2d"
           }
          ],
          "histogram2dcontour": [
           {
            "colorbar": {
             "outlinewidth": 0,
             "ticks": ""
            },
            "colorscale": [
             [
              0,
              "#0d0887"
             ],
             [
              0.1111111111111111,
              "#46039f"
             ],
             [
              0.2222222222222222,
              "#7201a8"
             ],
             [
              0.3333333333333333,
              "#9c179e"
             ],
             [
              0.4444444444444444,
              "#bd3786"
             ],
             [
              0.5555555555555556,
              "#d8576b"
             ],
             [
              0.6666666666666666,
              "#ed7953"
             ],
             [
              0.7777777777777778,
              "#fb9f3a"
             ],
             [
              0.8888888888888888,
              "#fdca26"
             ],
             [
              1,
              "#f0f921"
             ]
            ],
            "type": "histogram2dcontour"
           }
          ],
          "mesh3d": [
           {
            "colorbar": {
             "outlinewidth": 0,
             "ticks": ""
            },
            "type": "mesh3d"
           }
          ],
          "parcoords": [
           {
            "line": {
             "colorbar": {
              "outlinewidth": 0,
              "ticks": ""
             }
            },
            "type": "parcoords"
           }
          ],
          "pie": [
           {
            "automargin": true,
            "type": "pie"
           }
          ],
          "scatter": [
           {
            "fillpattern": {
             "fillmode": "overlay",
             "size": 10,
             "solidity": 0.2
            },
            "type": "scatter"
           }
          ],
          "scatter3d": [
           {
            "line": {
             "colorbar": {
              "outlinewidth": 0,
              "ticks": ""
             }
            },
            "marker": {
             "colorbar": {
              "outlinewidth": 0,
              "ticks": ""
             }
            },
            "type": "scatter3d"
           }
          ],
          "scattercarpet": [
           {
            "marker": {
             "colorbar": {
              "outlinewidth": 0,
              "ticks": ""
             }
            },
            "type": "scattercarpet"
           }
          ],
          "scattergeo": [
           {
            "marker": {
             "colorbar": {
              "outlinewidth": 0,
              "ticks": ""
             }
            },
            "type": "scattergeo"
           }
          ],
          "scattergl": [
           {
            "marker": {
             "colorbar": {
              "outlinewidth": 0,
              "ticks": ""
             }
            },
            "type": "scattergl"
           }
          ],
          "scattermapbox": [
           {
            "marker": {
             "colorbar": {
              "outlinewidth": 0,
              "ticks": ""
             }
            },
            "type": "scattermapbox"
           }
          ],
          "scatterpolar": [
           {
            "marker": {
             "colorbar": {
              "outlinewidth": 0,
              "ticks": ""
             }
            },
            "type": "scatterpolar"
           }
          ],
          "scatterpolargl": [
           {
            "marker": {
             "colorbar": {
              "outlinewidth": 0,
              "ticks": ""
             }
            },
            "type": "scatterpolargl"
           }
          ],
          "scatterternary": [
           {
            "marker": {
             "colorbar": {
              "outlinewidth": 0,
              "ticks": ""
             }
            },
            "type": "scatterternary"
           }
          ],
          "surface": [
           {
            "colorbar": {
             "outlinewidth": 0,
             "ticks": ""
            },
            "colorscale": [
             [
              0,
              "#0d0887"
             ],
             [
              0.1111111111111111,
              "#46039f"
             ],
             [
              0.2222222222222222,
              "#7201a8"
             ],
             [
              0.3333333333333333,
              "#9c179e"
             ],
             [
              0.4444444444444444,
              "#bd3786"
             ],
             [
              0.5555555555555556,
              "#d8576b"
             ],
             [
              0.6666666666666666,
              "#ed7953"
             ],
             [
              0.7777777777777778,
              "#fb9f3a"
             ],
             [
              0.8888888888888888,
              "#fdca26"
             ],
             [
              1,
              "#f0f921"
             ]
            ],
            "type": "surface"
           }
          ],
          "table": [
           {
            "cells": {
             "fill": {
              "color": "#EBF0F8"
             },
             "line": {
              "color": "white"
             }
            },
            "header": {
             "fill": {
              "color": "#C8D4E3"
             },
             "line": {
              "color": "white"
             }
            },
            "type": "table"
           }
          ]
         },
         "layout": {
          "annotationdefaults": {
           "arrowcolor": "#2a3f5f",
           "arrowhead": 0,
           "arrowwidth": 1
          },
          "autotypenumbers": "strict",
          "coloraxis": {
           "colorbar": {
            "outlinewidth": 0,
            "ticks": ""
           }
          },
          "colorscale": {
           "diverging": [
            [
             0,
             "#8e0152"
            ],
            [
             0.1,
             "#c51b7d"
            ],
            [
             0.2,
             "#de77ae"
            ],
            [
             0.3,
             "#f1b6da"
            ],
            [
             0.4,
             "#fde0ef"
            ],
            [
             0.5,
             "#f7f7f7"
            ],
            [
             0.6,
             "#e6f5d0"
            ],
            [
             0.7,
             "#b8e186"
            ],
            [
             0.8,
             "#7fbc41"
            ],
            [
             0.9,
             "#4d9221"
            ],
            [
             1,
             "#276419"
            ]
           ],
           "sequential": [
            [
             0,
             "#0d0887"
            ],
            [
             0.1111111111111111,
             "#46039f"
            ],
            [
             0.2222222222222222,
             "#7201a8"
            ],
            [
             0.3333333333333333,
             "#9c179e"
            ],
            [
             0.4444444444444444,
             "#bd3786"
            ],
            [
             0.5555555555555556,
             "#d8576b"
            ],
            [
             0.6666666666666666,
             "#ed7953"
            ],
            [
             0.7777777777777778,
             "#fb9f3a"
            ],
            [
             0.8888888888888888,
             "#fdca26"
            ],
            [
             1,
             "#f0f921"
            ]
           ],
           "sequentialminus": [
            [
             0,
             "#0d0887"
            ],
            [
             0.1111111111111111,
             "#46039f"
            ],
            [
             0.2222222222222222,
             "#7201a8"
            ],
            [
             0.3333333333333333,
             "#9c179e"
            ],
            [
             0.4444444444444444,
             "#bd3786"
            ],
            [
             0.5555555555555556,
             "#d8576b"
            ],
            [
             0.6666666666666666,
             "#ed7953"
            ],
            [
             0.7777777777777778,
             "#fb9f3a"
            ],
            [
             0.8888888888888888,
             "#fdca26"
            ],
            [
             1,
             "#f0f921"
            ]
           ]
          },
          "colorway": [
           "#636efa",
           "#EF553B",
           "#00cc96",
           "#ab63fa",
           "#FFA15A",
           "#19d3f3",
           "#FF6692",
           "#B6E880",
           "#FF97FF",
           "#FECB52"
          ],
          "font": {
           "color": "#2a3f5f"
          },
          "geo": {
           "bgcolor": "white",
           "lakecolor": "white",
           "landcolor": "#E5ECF6",
           "showlakes": true,
           "showland": true,
           "subunitcolor": "white"
          },
          "hoverlabel": {
           "align": "left"
          },
          "hovermode": "closest",
          "mapbox": {
           "style": "light"
          },
          "paper_bgcolor": "white",
          "plot_bgcolor": "#E5ECF6",
          "polar": {
           "angularaxis": {
            "gridcolor": "white",
            "linecolor": "white",
            "ticks": ""
           },
           "bgcolor": "#E5ECF6",
           "radialaxis": {
            "gridcolor": "white",
            "linecolor": "white",
            "ticks": ""
           }
          },
          "scene": {
           "xaxis": {
            "backgroundcolor": "#E5ECF6",
            "gridcolor": "white",
            "gridwidth": 2,
            "linecolor": "white",
            "showbackground": true,
            "ticks": "",
            "zerolinecolor": "white"
           },
           "yaxis": {
            "backgroundcolor": "#E5ECF6",
            "gridcolor": "white",
            "gridwidth": 2,
            "linecolor": "white",
            "showbackground": true,
            "ticks": "",
            "zerolinecolor": "white"
           },
           "zaxis": {
            "backgroundcolor": "#E5ECF6",
            "gridcolor": "white",
            "gridwidth": 2,
            "linecolor": "white",
            "showbackground": true,
            "ticks": "",
            "zerolinecolor": "white"
           }
          },
          "shapedefaults": {
           "line": {
            "color": "#2a3f5f"
           }
          },
          "ternary": {
           "aaxis": {
            "gridcolor": "white",
            "linecolor": "white",
            "ticks": ""
           },
           "baxis": {
            "gridcolor": "white",
            "linecolor": "white",
            "ticks": ""
           },
           "bgcolor": "#E5ECF6",
           "caxis": {
            "gridcolor": "white",
            "linecolor": "white",
            "ticks": ""
           }
          },
          "title": {
           "x": 0.05
          },
          "xaxis": {
           "automargin": true,
           "gridcolor": "white",
           "linecolor": "white",
           "ticks": "",
           "title": {
            "standoff": 15
           },
           "zerolinecolor": "white",
           "zerolinewidth": 2
          },
          "yaxis": {
           "automargin": true,
           "gridcolor": "white",
           "linecolor": "white",
           "ticks": "",
           "title": {
            "standoff": 15
           },
           "zerolinecolor": "white",
           "zerolinewidth": 2
          }
         }
        },
        "title": {
         "text": "Vendas por Ano"
        },
        "xaxis": {
         "anchor": "y",
         "domain": [
          0,
          1
         ],
         "title": {
          "text": "x"
         }
        },
        "yaxis": {
         "anchor": "x",
         "domain": [
          0,
          1
         ],
         "title": {
          "text": "y"
         }
        }
       }
      }
     },
     "metadata": {},
     "output_type": "display_data"
    }
   ],
   "source": [
    "import plotly.express as px \n",
    "\n",
    "dado_x = [2018,2019,2020,2021]\n",
    "dados_y = [25,50,10,2]\n",
    "\n",
    "fig = px.line(x= dado_x, y= dados_y, title= 'Vendas por Ano')\n",
    "fig.show()"
   ]
  },
  {
   "cell_type": "markdown",
   "metadata": {},
   "source": [
    "Gráfico de Pizza"
   ]
  },
  {
   "cell_type": "code",
   "execution_count": 8,
   "metadata": {},
   "outputs": [
    {
     "data": {
      "application/vnd.plotly.v1+json": {
       "config": {
        "plotlyServerURL": "https://plot.ly"
       },
       "data": [
        {
         "domain": {
          "x": [
           0,
           1
          ],
          "y": [
           0,
           1
          ]
         },
         "hovertemplate": "label=%{label}<br>value=%{value}<extra></extra>",
         "labels": [
          2018,
          2019,
          2020,
          2021
         ],
         "legendgroup": "",
         "name": "",
         "showlegend": true,
         "type": "pie",
         "values": [
          25,
          50,
          10,
          2
         ]
        }
       ],
       "layout": {
        "height": 400,
        "legend": {
         "tracegroupgap": 0
        },
        "margin": {
         "t": 60
        },
        "template": {
         "data": {
          "bar": [
           {
            "error_x": {
             "color": "#2a3f5f"
            },
            "error_y": {
             "color": "#2a3f5f"
            },
            "marker": {
             "line": {
              "color": "#E5ECF6",
              "width": 0.5
             },
             "pattern": {
              "fillmode": "overlay",
              "size": 10,
              "solidity": 0.2
             }
            },
            "type": "bar"
           }
          ],
          "barpolar": [
           {
            "marker": {
             "line": {
              "color": "#E5ECF6",
              "width": 0.5
             },
             "pattern": {
              "fillmode": "overlay",
              "size": 10,
              "solidity": 0.2
             }
            },
            "type": "barpolar"
           }
          ],
          "carpet": [
           {
            "aaxis": {
             "endlinecolor": "#2a3f5f",
             "gridcolor": "white",
             "linecolor": "white",
             "minorgridcolor": "white",
             "startlinecolor": "#2a3f5f"
            },
            "baxis": {
             "endlinecolor": "#2a3f5f",
             "gridcolor": "white",
             "linecolor": "white",
             "minorgridcolor": "white",
             "startlinecolor": "#2a3f5f"
            },
            "type": "carpet"
           }
          ],
          "choropleth": [
           {
            "colorbar": {
             "outlinewidth": 0,
             "ticks": ""
            },
            "type": "choropleth"
           }
          ],
          "contour": [
           {
            "colorbar": {
             "outlinewidth": 0,
             "ticks": ""
            },
            "colorscale": [
             [
              0,
              "#0d0887"
             ],
             [
              0.1111111111111111,
              "#46039f"
             ],
             [
              0.2222222222222222,
              "#7201a8"
             ],
             [
              0.3333333333333333,
              "#9c179e"
             ],
             [
              0.4444444444444444,
              "#bd3786"
             ],
             [
              0.5555555555555556,
              "#d8576b"
             ],
             [
              0.6666666666666666,
              "#ed7953"
             ],
             [
              0.7777777777777778,
              "#fb9f3a"
             ],
             [
              0.8888888888888888,
              "#fdca26"
             ],
             [
              1,
              "#f0f921"
             ]
            ],
            "type": "contour"
           }
          ],
          "contourcarpet": [
           {
            "colorbar": {
             "outlinewidth": 0,
             "ticks": ""
            },
            "type": "contourcarpet"
           }
          ],
          "heatmap": [
           {
            "colorbar": {
             "outlinewidth": 0,
             "ticks": ""
            },
            "colorscale": [
             [
              0,
              "#0d0887"
             ],
             [
              0.1111111111111111,
              "#46039f"
             ],
             [
              0.2222222222222222,
              "#7201a8"
             ],
             [
              0.3333333333333333,
              "#9c179e"
             ],
             [
              0.4444444444444444,
              "#bd3786"
             ],
             [
              0.5555555555555556,
              "#d8576b"
             ],
             [
              0.6666666666666666,
              "#ed7953"
             ],
             [
              0.7777777777777778,
              "#fb9f3a"
             ],
             [
              0.8888888888888888,
              "#fdca26"
             ],
             [
              1,
              "#f0f921"
             ]
            ],
            "type": "heatmap"
           }
          ],
          "heatmapgl": [
           {
            "colorbar": {
             "outlinewidth": 0,
             "ticks": ""
            },
            "colorscale": [
             [
              0,
              "#0d0887"
             ],
             [
              0.1111111111111111,
              "#46039f"
             ],
             [
              0.2222222222222222,
              "#7201a8"
             ],
             [
              0.3333333333333333,
              "#9c179e"
             ],
             [
              0.4444444444444444,
              "#bd3786"
             ],
             [
              0.5555555555555556,
              "#d8576b"
             ],
             [
              0.6666666666666666,
              "#ed7953"
             ],
             [
              0.7777777777777778,
              "#fb9f3a"
             ],
             [
              0.8888888888888888,
              "#fdca26"
             ],
             [
              1,
              "#f0f921"
             ]
            ],
            "type": "heatmapgl"
           }
          ],
          "histogram": [
           {
            "marker": {
             "pattern": {
              "fillmode": "overlay",
              "size": 10,
              "solidity": 0.2
             }
            },
            "type": "histogram"
           }
          ],
          "histogram2d": [
           {
            "colorbar": {
             "outlinewidth": 0,
             "ticks": ""
            },
            "colorscale": [
             [
              0,
              "#0d0887"
             ],
             [
              0.1111111111111111,
              "#46039f"
             ],
             [
              0.2222222222222222,
              "#7201a8"
             ],
             [
              0.3333333333333333,
              "#9c179e"
             ],
             [
              0.4444444444444444,
              "#bd3786"
             ],
             [
              0.5555555555555556,
              "#d8576b"
             ],
             [
              0.6666666666666666,
              "#ed7953"
             ],
             [
              0.7777777777777778,
              "#fb9f3a"
             ],
             [
              0.8888888888888888,
              "#fdca26"
             ],
             [
              1,
              "#f0f921"
             ]
            ],
            "type": "histogram2d"
           }
          ],
          "histogram2dcontour": [
           {
            "colorbar": {
             "outlinewidth": 0,
             "ticks": ""
            },
            "colorscale": [
             [
              0,
              "#0d0887"
             ],
             [
              0.1111111111111111,
              "#46039f"
             ],
             [
              0.2222222222222222,
              "#7201a8"
             ],
             [
              0.3333333333333333,
              "#9c179e"
             ],
             [
              0.4444444444444444,
              "#bd3786"
             ],
             [
              0.5555555555555556,
              "#d8576b"
             ],
             [
              0.6666666666666666,
              "#ed7953"
             ],
             [
              0.7777777777777778,
              "#fb9f3a"
             ],
             [
              0.8888888888888888,
              "#fdca26"
             ],
             [
              1,
              "#f0f921"
             ]
            ],
            "type": "histogram2dcontour"
           }
          ],
          "mesh3d": [
           {
            "colorbar": {
             "outlinewidth": 0,
             "ticks": ""
            },
            "type": "mesh3d"
           }
          ],
          "parcoords": [
           {
            "line": {
             "colorbar": {
              "outlinewidth": 0,
              "ticks": ""
             }
            },
            "type": "parcoords"
           }
          ],
          "pie": [
           {
            "automargin": true,
            "type": "pie"
           }
          ],
          "scatter": [
           {
            "fillpattern": {
             "fillmode": "overlay",
             "size": 10,
             "solidity": 0.2
            },
            "type": "scatter"
           }
          ],
          "scatter3d": [
           {
            "line": {
             "colorbar": {
              "outlinewidth": 0,
              "ticks": ""
             }
            },
            "marker": {
             "colorbar": {
              "outlinewidth": 0,
              "ticks": ""
             }
            },
            "type": "scatter3d"
           }
          ],
          "scattercarpet": [
           {
            "marker": {
             "colorbar": {
              "outlinewidth": 0,
              "ticks": ""
             }
            },
            "type": "scattercarpet"
           }
          ],
          "scattergeo": [
           {
            "marker": {
             "colorbar": {
              "outlinewidth": 0,
              "ticks": ""
             }
            },
            "type": "scattergeo"
           }
          ],
          "scattergl": [
           {
            "marker": {
             "colorbar": {
              "outlinewidth": 0,
              "ticks": ""
             }
            },
            "type": "scattergl"
           }
          ],
          "scattermapbox": [
           {
            "marker": {
             "colorbar": {
              "outlinewidth": 0,
              "ticks": ""
             }
            },
            "type": "scattermapbox"
           }
          ],
          "scatterpolar": [
           {
            "marker": {
             "colorbar": {
              "outlinewidth": 0,
              "ticks": ""
             }
            },
            "type": "scatterpolar"
           }
          ],
          "scatterpolargl": [
           {
            "marker": {
             "colorbar": {
              "outlinewidth": 0,
              "ticks": ""
             }
            },
            "type": "scatterpolargl"
           }
          ],
          "scatterternary": [
           {
            "marker": {
             "colorbar": {
              "outlinewidth": 0,
              "ticks": ""
             }
            },
            "type": "scatterternary"
           }
          ],
          "surface": [
           {
            "colorbar": {
             "outlinewidth": 0,
             "ticks": ""
            },
            "colorscale": [
             [
              0,
              "#0d0887"
             ],
             [
              0.1111111111111111,
              "#46039f"
             ],
             [
              0.2222222222222222,
              "#7201a8"
             ],
             [
              0.3333333333333333,
              "#9c179e"
             ],
             [
              0.4444444444444444,
              "#bd3786"
             ],
             [
              0.5555555555555556,
              "#d8576b"
             ],
             [
              0.6666666666666666,
              "#ed7953"
             ],
             [
              0.7777777777777778,
              "#fb9f3a"
             ],
             [
              0.8888888888888888,
              "#fdca26"
             ],
             [
              1,
              "#f0f921"
             ]
            ],
            "type": "surface"
           }
          ],
          "table": [
           {
            "cells": {
             "fill": {
              "color": "#EBF0F8"
             },
             "line": {
              "color": "white"
             }
            },
            "header": {
             "fill": {
              "color": "#C8D4E3"
             },
             "line": {
              "color": "white"
             }
            },
            "type": "table"
           }
          ]
         },
         "layout": {
          "annotationdefaults": {
           "arrowcolor": "#2a3f5f",
           "arrowhead": 0,
           "arrowwidth": 1
          },
          "autotypenumbers": "strict",
          "coloraxis": {
           "colorbar": {
            "outlinewidth": 0,
            "ticks": ""
           }
          },
          "colorscale": {
           "diverging": [
            [
             0,
             "#8e0152"
            ],
            [
             0.1,
             "#c51b7d"
            ],
            [
             0.2,
             "#de77ae"
            ],
            [
             0.3,
             "#f1b6da"
            ],
            [
             0.4,
             "#fde0ef"
            ],
            [
             0.5,
             "#f7f7f7"
            ],
            [
             0.6,
             "#e6f5d0"
            ],
            [
             0.7,
             "#b8e186"
            ],
            [
             0.8,
             "#7fbc41"
            ],
            [
             0.9,
             "#4d9221"
            ],
            [
             1,
             "#276419"
            ]
           ],
           "sequential": [
            [
             0,
             "#0d0887"
            ],
            [
             0.1111111111111111,
             "#46039f"
            ],
            [
             0.2222222222222222,
             "#7201a8"
            ],
            [
             0.3333333333333333,
             "#9c179e"
            ],
            [
             0.4444444444444444,
             "#bd3786"
            ],
            [
             0.5555555555555556,
             "#d8576b"
            ],
            [
             0.6666666666666666,
             "#ed7953"
            ],
            [
             0.7777777777777778,
             "#fb9f3a"
            ],
            [
             0.8888888888888888,
             "#fdca26"
            ],
            [
             1,
             "#f0f921"
            ]
           ],
           "sequentialminus": [
            [
             0,
             "#0d0887"
            ],
            [
             0.1111111111111111,
             "#46039f"
            ],
            [
             0.2222222222222222,
             "#7201a8"
            ],
            [
             0.3333333333333333,
             "#9c179e"
            ],
            [
             0.4444444444444444,
             "#bd3786"
            ],
            [
             0.5555555555555556,
             "#d8576b"
            ],
            [
             0.6666666666666666,
             "#ed7953"
            ],
            [
             0.7777777777777778,
             "#fb9f3a"
            ],
            [
             0.8888888888888888,
             "#fdca26"
            ],
            [
             1,
             "#f0f921"
            ]
           ]
          },
          "colorway": [
           "#636efa",
           "#EF553B",
           "#00cc96",
           "#ab63fa",
           "#FFA15A",
           "#19d3f3",
           "#FF6692",
           "#B6E880",
           "#FF97FF",
           "#FECB52"
          ],
          "font": {
           "color": "#2a3f5f"
          },
          "geo": {
           "bgcolor": "white",
           "lakecolor": "white",
           "landcolor": "#E5ECF6",
           "showlakes": true,
           "showland": true,
           "subunitcolor": "white"
          },
          "hoverlabel": {
           "align": "left"
          },
          "hovermode": "closest",
          "mapbox": {
           "style": "light"
          },
          "paper_bgcolor": "white",
          "plot_bgcolor": "#E5ECF6",
          "polar": {
           "angularaxis": {
            "gridcolor": "white",
            "linecolor": "white",
            "ticks": ""
           },
           "bgcolor": "#E5ECF6",
           "radialaxis": {
            "gridcolor": "white",
            "linecolor": "white",
            "ticks": ""
           }
          },
          "scene": {
           "xaxis": {
            "backgroundcolor": "#E5ECF6",
            "gridcolor": "white",
            "gridwidth": 2,
            "linecolor": "white",
            "showbackground": true,
            "ticks": "",
            "zerolinecolor": "white"
           },
           "yaxis": {
            "backgroundcolor": "#E5ECF6",
            "gridcolor": "white",
            "gridwidth": 2,
            "linecolor": "white",
            "showbackground": true,
            "ticks": "",
            "zerolinecolor": "white"
           },
           "zaxis": {
            "backgroundcolor": "#E5ECF6",
            "gridcolor": "white",
            "gridwidth": 2,
            "linecolor": "white",
            "showbackground": true,
            "ticks": "",
            "zerolinecolor": "white"
           }
          },
          "shapedefaults": {
           "line": {
            "color": "#2a3f5f"
           }
          },
          "ternary": {
           "aaxis": {
            "gridcolor": "white",
            "linecolor": "white",
            "ticks": ""
           },
           "baxis": {
            "gridcolor": "white",
            "linecolor": "white",
            "ticks": ""
           },
           "bgcolor": "#E5ECF6",
           "caxis": {
            "gridcolor": "white",
            "linecolor": "white",
            "ticks": ""
           }
          },
          "title": {
           "x": 0.05
          },
          "xaxis": {
           "automargin": true,
           "gridcolor": "white",
           "linecolor": "white",
           "ticks": "",
           "title": {
            "standoff": 15
           },
           "zerolinecolor": "white",
           "zerolinewidth": 2
          },
          "yaxis": {
           "automargin": true,
           "gridcolor": "white",
           "linecolor": "white",
           "ticks": "",
           "title": {
            "standoff": 15
           },
           "zerolinecolor": "white",
           "zerolinewidth": 2
          }
         }
        },
        "width": 500
       }
      }
     },
     "metadata": {},
     "output_type": "display_data"
    }
   ],
   "source": [
    "dado_x = [2018,2019,2020,2021]\n",
    "dados_y = [25,50,10,2]\n",
    "\n",
    "fig = px.pie(names= dado_x,values=dados_y, height= 400, width= 500)\n",
    "fig.show()"
   ]
  }
 ],
 "metadata": {
  "kernelspec": {
   "display_name": "Python 3",
   "language": "python",
   "name": "python3"
  },
  "language_info": {
   "codemirror_mode": {
    "name": "ipython",
    "version": 3
   },
   "file_extension": ".py",
   "mimetype": "text/x-python",
   "name": "python",
   "nbconvert_exporter": "python",
   "pygments_lexer": "ipython3",
   "version": "3.12.4"
  }
 },
 "nbformat": 4,
 "nbformat_minor": 2
}
