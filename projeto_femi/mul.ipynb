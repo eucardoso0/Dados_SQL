{
 "cells": [
  {
   "cell_type": "markdown",
   "metadata": {},
   "source": [
    "Importação e Limpeza de Dados:"
   ]
  },
  {
   "cell_type": "code",
   "execution_count": 4,
   "metadata": {},
   "outputs": [
    {
     "data": {
      "text/html": [
       "<div>\n",
       "<style scoped>\n",
       "    .dataframe tbody tr th:only-of-type {\n",
       "        vertical-align: middle;\n",
       "    }\n",
       "\n",
       "    .dataframe tbody tr th {\n",
       "        vertical-align: top;\n",
       "    }\n",
       "\n",
       "    .dataframe thead th {\n",
       "        text-align: right;\n",
       "    }\n",
       "</style>\n",
       "<table border=\"1\" class=\"dataframe\">\n",
       "  <thead>\n",
       "    <tr style=\"text-align: right;\">\n",
       "      <th></th>\n",
       "      <th>municipio_fato</th>\n",
       "      <th>data_fato</th>\n",
       "      <th>mes</th>\n",
       "      <th>ano</th>\n",
       "      <th>rmbh</th>\n",
       "      <th>tentado_consumado</th>\n",
       "      <th>qtde_vitimas</th>\n",
       "    </tr>\n",
       "  </thead>\n",
       "  <tbody>\n",
       "    <tr>\n",
       "      <th>0</th>\n",
       "      <td>UBERABA</td>\n",
       "      <td>2018-01-01</td>\n",
       "      <td>Janeiro</td>\n",
       "      <td>2018.0</td>\n",
       "      <td>3) Interior de MG</td>\n",
       "      <td>CONSUMADO</td>\n",
       "      <td>1.0</td>\n",
       "    </tr>\n",
       "    <tr>\n",
       "      <th>1</th>\n",
       "      <td>MURIAE</td>\n",
       "      <td>2018-01-02</td>\n",
       "      <td>Janeiro</td>\n",
       "      <td>2018.0</td>\n",
       "      <td>3) Interior de MG</td>\n",
       "      <td>TENTADO</td>\n",
       "      <td>1.0</td>\n",
       "    </tr>\n",
       "    <tr>\n",
       "      <th>2</th>\n",
       "      <td>ESMERALDAS</td>\n",
       "      <td>2018-01-03</td>\n",
       "      <td>Janeiro</td>\n",
       "      <td>2018.0</td>\n",
       "      <td>2) RMBH (sem BH)</td>\n",
       "      <td>TENTADO</td>\n",
       "      <td>1.0</td>\n",
       "    </tr>\n",
       "    <tr>\n",
       "      <th>3</th>\n",
       "      <td>VARZEA DA PALMA</td>\n",
       "      <td>2018-01-06</td>\n",
       "      <td>Janeiro</td>\n",
       "      <td>2018.0</td>\n",
       "      <td>3) Interior de MG</td>\n",
       "      <td>TENTADO</td>\n",
       "      <td>2.0</td>\n",
       "    </tr>\n",
       "    <tr>\n",
       "      <th>4</th>\n",
       "      <td>FELICIO DOS SANTOS</td>\n",
       "      <td>2018-01-06</td>\n",
       "      <td>Janeiro</td>\n",
       "      <td>2018.0</td>\n",
       "      <td>3) Interior de MG</td>\n",
       "      <td>CONSUMADO</td>\n",
       "      <td>1.0</td>\n",
       "    </tr>\n",
       "    <tr>\n",
       "      <th>...</th>\n",
       "      <td>...</td>\n",
       "      <td>...</td>\n",
       "      <td>...</td>\n",
       "      <td>...</td>\n",
       "      <td>...</td>\n",
       "      <td>...</td>\n",
       "      <td>...</td>\n",
       "    </tr>\n",
       "    <tr>\n",
       "      <th>707</th>\n",
       "      <td>RIBEIRAO DAS NEVES</td>\n",
       "      <td>2021-03-21</td>\n",
       "      <td>Março</td>\n",
       "      <td>2021.0</td>\n",
       "      <td>2) RMBH (sem BH)</td>\n",
       "      <td>TENTADO</td>\n",
       "      <td>1.0</td>\n",
       "    </tr>\n",
       "    <tr>\n",
       "      <th>708</th>\n",
       "      <td>RIBEIRAO DAS NEVES</td>\n",
       "      <td>2021-04-06</td>\n",
       "      <td>Abril</td>\n",
       "      <td>2021.0</td>\n",
       "      <td>2) RMBH (sem BH)</td>\n",
       "      <td>TENTADO</td>\n",
       "      <td>1.0</td>\n",
       "    </tr>\n",
       "    <tr>\n",
       "      <th>709</th>\n",
       "      <td>RIBEIRAO DAS NEVES</td>\n",
       "      <td>2021-05-29</td>\n",
       "      <td>Maio</td>\n",
       "      <td>2021.0</td>\n",
       "      <td>2) RMBH (sem BH)</td>\n",
       "      <td>TENTADO</td>\n",
       "      <td>1.0</td>\n",
       "    </tr>\n",
       "    <tr>\n",
       "      <th>710</th>\n",
       "      <td>RIBEIRAO DAS NEVES</td>\n",
       "      <td>2021-08-10</td>\n",
       "      <td>Agosto</td>\n",
       "      <td>2021.0</td>\n",
       "      <td>2) RMBH (sem BH)</td>\n",
       "      <td>TENTADO</td>\n",
       "      <td>1.0</td>\n",
       "    </tr>\n",
       "    <tr>\n",
       "      <th>711</th>\n",
       "      <td>RIBEIRAO DAS NEVES</td>\n",
       "      <td>2021-12-10</td>\n",
       "      <td>Dezembro</td>\n",
       "      <td>2021.0</td>\n",
       "      <td>2) RMBH (sem BH)</td>\n",
       "      <td>TENTADO</td>\n",
       "      <td>1.0</td>\n",
       "    </tr>\n",
       "  </tbody>\n",
       "</table>\n",
       "<p>712 rows × 7 columns</p>\n",
       "</div>"
      ],
      "text/plain": [
       "         municipio_fato  data_fato       mes     ano               rmbh  \\\n",
       "0               UBERABA 2018-01-01   Janeiro  2018.0  3) Interior de MG   \n",
       "1                MURIAE 2018-01-02   Janeiro  2018.0  3) Interior de MG   \n",
       "2            ESMERALDAS 2018-01-03   Janeiro  2018.0   2) RMBH (sem BH)   \n",
       "3       VARZEA DA PALMA 2018-01-06   Janeiro  2018.0  3) Interior de MG   \n",
       "4    FELICIO DOS SANTOS 2018-01-06   Janeiro  2018.0  3) Interior de MG   \n",
       "..                  ...        ...       ...     ...                ...   \n",
       "707  RIBEIRAO DAS NEVES 2021-03-21     Março  2021.0   2) RMBH (sem BH)   \n",
       "708  RIBEIRAO DAS NEVES 2021-04-06     Abril  2021.0   2) RMBH (sem BH)   \n",
       "709  RIBEIRAO DAS NEVES 2021-05-29      Maio  2021.0   2) RMBH (sem BH)   \n",
       "710  RIBEIRAO DAS NEVES 2021-08-10    Agosto  2021.0   2) RMBH (sem BH)   \n",
       "711  RIBEIRAO DAS NEVES 2021-12-10  Dezembro  2021.0   2) RMBH (sem BH)   \n",
       "\n",
       "    tentado_consumado  qtde_vitimas  \n",
       "0           CONSUMADO           1.0  \n",
       "1             TENTADO           1.0  \n",
       "2             TENTADO           1.0  \n",
       "3             TENTADO           2.0  \n",
       "4           CONSUMADO           1.0  \n",
       "..                ...           ...  \n",
       "707           TENTADO           1.0  \n",
       "708           TENTADO           1.0  \n",
       "709           TENTADO           1.0  \n",
       "710           TENTADO           1.0  \n",
       "711           TENTADO           1.0  \n",
       "\n",
       "[712 rows x 7 columns]"
      ]
     },
     "metadata": {},
     "output_type": "display_data"
    }
   ],
   "source": [
    "import pandas as pd \n",
    "\n",
    "tabela = pd.read_excel(r\"C:\\Users\\gabriel\\Downloads\\projeto_femi\\dados_feminicidio.xlsx\")\n",
    "tabela = tabela.drop(columns='municipio_cod')\n",
    "tabela = tabela.drop(columns='risp')\n",
    "meses = {\n",
    "    1.0: 'Janeiro', \n",
    "    2.0: 'Fevereiro', \n",
    "    3.0: 'Março', \n",
    "    4.0: 'Abril',\n",
    "    5.0: 'Maio', \n",
    "    6.0: 'Junho', \n",
    "    7.0: 'Julho', \n",
    "    8.0: 'Agosto', \n",
    "    9.0: 'Setembro', \n",
    "    10.0: 'Outubro', \n",
    "    11.0: 'Novembro', \n",
    "    12.0: 'Dezembro'\n",
    "}\n",
    "tabela['mes'] = tabela['mes'].replace(meses)\n",
    "display(tabela)"
   ]
  },
  {
   "cell_type": "markdown",
   "metadata": {},
   "source": [
    "Análise Temporal"
   ]
  },
  {
   "cell_type": "code",
   "execution_count": 5,
   "metadata": {},
   "outputs": [
    {
     "data": {
      "text/plain": [
       "mes\n",
       "Agosto       80\n",
       "Setembro     75\n",
       "Dezembro     71\n",
       "Março        67\n",
       "Julho        67\n",
       "Fevereiro    65\n",
       "Janeiro      63\n",
       "Abril        56\n",
       "Junho        49\n",
       "Maio         43\n",
       "Novembro     41\n",
       "Outubro      34\n",
       "Name: count, dtype: int64"
      ]
     },
     "metadata": {},
     "output_type": "display_data"
    }
   ],
   "source": [
    "#número de casos por mês\n",
    "crimes_mes_contagem = tabela['mes'].value_counts()\n",
    "tabela[\"crimes_mes_contagem\"] = tabela.groupby('mes')[\"mes\"].transform('count')\n",
    "display(crimes_mes_contagem)"
   ]
  },
  {
   "cell_type": "code",
   "execution_count": 6,
   "metadata": {},
   "outputs": [
    {
     "data": {
      "text/plain": [
       "municipio_fato\n",
       "BELO HORIZONTE        78\n",
       "CONTAGEM              28\n",
       "UBERLANDIA            17\n",
       "MONTES CLAROS         16\n",
       "RIBEIRAO DAS NEVES    14\n",
       "                      ..\n",
       "MARIANA                1\n",
       "BELMIRO BRAGA          1\n",
       "CASSIA                 1\n",
       "FELICIO DOS SANTOS     1\n",
       "RIACHINHO              1\n",
       "Name: count, Length: 279, dtype: int64"
      ]
     },
     "metadata": {},
     "output_type": "display_data"
    }
   ],
   "source": [
    "#Analisando o número de casos por município,destacando áreas com maior incidência.\n",
    "num_regiao = tabela[\"municipio_fato\"].value_counts()\n",
    "tabela[\"num_regiao\"] = tabela.groupby(\"municipio_fato\")[\"municipio_fato\"].transform(\"count\")\n",
    "num_regiao.columns = ['municipio_fato', 'num_ocorrencias']\n",
    "display(num_regiao)"
   ]
  },
  {
   "cell_type": "code",
   "execution_count": 7,
   "metadata": {},
   "outputs": [
    {
     "data": {
      "application/vnd.plotly.v1+json": {
       "config": {
        "plotlyServerURL": "https://plot.ly"
       },
       "data": [
        {
         "alignmentgroup": "True",
         "hovertemplate": "Município=%{x}<br>Número de Ocorrências=%{y}<extra></extra>",
         "legendgroup": "",
         "marker": {
          "color": "#636efa",
          "pattern": {
           "shape": ""
          }
         },
         "name": "",
         "offsetgroup": "",
         "orientation": "v",
         "showlegend": false,
         "textposition": "auto",
         "type": "bar",
         "x": [
          "BELO HORIZONTE",
          "CONTAGEM",
          "UBERLANDIA",
          "MONTES CLAROS",
          "RIBEIRAO DAS NEVES",
          "BETIM",
          "SANTA LUZIA",
          "UBERABA",
          "GOVERNADOR VALADARES",
          "JUIZ DE FORA",
          "SETE LAGOAS",
          "NOVA SERRANA",
          "PATOS DE MINAS",
          "IPATINGA",
          "CARATINGA",
          "CAPELINHA",
          "DIVINOPOLIS",
          "ARAXA",
          "VARGINHA",
          "DIVINO",
          "JANAUBA",
          "VISCONDE DO RIO BRANCO",
          "CARMO DO CAJURU",
          "MANHUACU",
          "SERRA DO SALITRE",
          "IGARAPE",
          "NOVA LIMA",
          "ALFENAS",
          "ITABIRA",
          "ESMERALDAS",
          "BURITIZEIRO",
          "CURVELO",
          "VESPASIANO",
          "SANTOS DUMONT",
          "BELO ORIENTE",
          "ITABIRINHA",
          "JOAO MONLEVADE",
          "POCOS DE CALDAS",
          "SABARA",
          "RIO VERMELHO",
          "PIUMHI",
          "TARUMIRIM",
          "DIVISOPOLIS",
          "ITACARAMBI",
          "EXTREMA",
          "ARACUAI",
          "ARAPORA",
          "JEQUERI",
          "PEDRO LEOPOLDO",
          "MARIO CAMPOS",
          "LAVRAS",
          "GOUVEIA",
          "SANTANA DO PARAISO",
          "ITURAMA",
          "JOAO PINHEIRO",
          "PARA DE MINAS",
          "PATROCINIO",
          "PARACATU",
          "LAGOA SANTA",
          "CARMO DO PARANAIBA",
          "MONTE CARMELO",
          "ITAJUBA",
          "PIRAPORA",
          "TEOFILO OTONI",
          "CAETE",
          "MURIAE",
          "DATAS",
          "BARBACENA",
          "IBIRITE",
          "SAO JOAO DEL REI",
          "TIMOTEO",
          "CORACAO DE JESUS",
          "ILICINEA",
          "GUARANI",
          "CARANGOLA",
          "COLUNA",
          "PECANHA",
          "CONCEICAO DO MATO DENTRO",
          "ITAUNA",
          "MANTENA",
          "CAPITAO ANDRADE",
          "CORONEL FABRICIANO",
          "MATO VERDE",
          "MAMONAS",
          "MEDINA",
          "FRUTAL",
          "VARZEA DA PALMA",
          "PESCADOR",
          "SANTANA DO MANHUACU",
          "MATUTINA",
          "GUIRICEMA",
          "LUZ",
          "JABOTICATUBAS",
          "BOCAIUVA",
          "OURO VERDE DE MINAS",
          "ALVORADA DE MINAS",
          "SANTANA DE PIRAPAMA",
          "NOVA PORTEIRINHA",
          "SAO JOAO DO MANHUACU",
          "PONTE NOVA",
          "MINAS NOVAS",
          "URUCANIA",
          "BANDEIRA DO SUL",
          "ALEM PARAIBA",
          "SABINOPOLIS",
          "JACINTO",
          "GUARACIABA",
          "DOM JOAQUIM",
          "CORINTO",
          "PERDOES",
          "JORDANIA",
          "MALACACHETA",
          "SALINAS",
          "JEQUITINHONHA",
          "LADAINHA",
          "NEPOMUCENO",
          "ABAETE",
          "MATIAS BARBOSA",
          "SIMONESIA",
          "ALMENARA",
          "TRES PONTAS",
          "NANUQUE",
          "JANUARIA",
          "PALMOPOLIS",
          "POUSO ALEGRE",
          "ARINOS",
          "MANHUMIRIM",
          "BOM DESPACHO",
          "TURMALINA",
          "ITUIUTABA",
          "AMPARO DA SERRA",
          "CONEGO MARINHO",
          "TRES CORACOES",
          "JOSENOPOLIS",
          "BRAS PIRES",
          "ITINGA",
          "BALDIM",
          "PARAGUACU",
          "PINTOPOLIS",
          "ARAPONGA",
          "ARAUJOS",
          "MATOZINHOS",
          "PEQUI",
          "FRANCISCO SA",
          "RIO PIRACICABA",
          "FORMIGA",
          "CLARO DOS POCOES",
          "IJACI",
          "JAMPRUCA",
          "ITAGUARA",
          "CONSELHEIRO PENA",
          "PERDIGAO",
          "BELA VISTA DE MINAS",
          "IGARATINGA",
          "MESQUITA",
          "CONSELHEIRO LAFAIETE",
          "ESTIVA",
          "SANTA BARBARA DO LESTE",
          "DIAMANTINA",
          "FRANCISCO DUMONT",
          "CANTAGALO",
          "SAO JOAO DAS MISSOES",
          "NOVO CRUZEIRO",
          "LAGOA FORMOSA",
          "MATIPO",
          "PASSOS",
          "RODEIRO",
          "SAO FRANCISCO DE SALES",
          "ITAMBACURI",
          "ATALEIA",
          "CARANDAI",
          "AGUA BOA",
          "SANTO ANTONIO DO AMPARO",
          "LAJINHA",
          "SANTA BARBARA DO TUGURIO",
          "INCONFIDENTES",
          "GAMELEIRAS",
          "SARDOA",
          "ALTO RIO DOCE",
          "SAO DOMINGOS DO PRATA",
          "TAIOBEIRAS",
          "CONCEICAO DA APARECIDA",
          "CATUJI",
          "OLIVEIRA",
          "ARAGUARI",
          "SAO SEBASTIAO PARAISO",
          "LIMA DUARTE",
          "RAUL SOARES",
          "NOVA ERA",
          "UBA",
          "MENDES PIMENTEL",
          "SILVIANOPOLIS",
          "FERNANDES TOURINHO",
          "CAJURI",
          "ITAMARANDIBA",
          "ITAPECERICA",
          "BRUMADINHO",
          "MUZAMBINHO",
          "SARZEDO",
          "CACHOEIRA DOURADA",
          "EUGENOPOLIS",
          "RESENDE COSTA",
          "AGUAS FORMOSAS",
          "BORDA DA MATA",
          "SAO JOAO DA PONTE",
          "ABRE-CAMPO",
          "PRESIDENTE JUSCELINO",
          "ESPERA FELIZ",
          "ARICANDUVA",
          "SANTA MARGARIDA",
          "FRUTA DE LEITE",
          "SAO TOMAS DE AQUINO",
          "DORES DE GUANHAES",
          "SAO JOAQUIM DE BICAS",
          "ITAMARATI DE MINAS",
          "ALTO JEQUITIBA",
          "SEM-PEIXE",
          "SACRAMENTO",
          "BICAS",
          "CAPINOPOLIS",
          "MUTUM",
          "LEOPOLDINA",
          "GUAXUPE",
          "CONCEICAO DE IPANEMA",
          "CONCEICAO DO PARA",
          "CONGONHAS",
          "GUIDOVAL",
          "ITABIRITO",
          "BRASILANDIA DE MINAS",
          "BUENOPOLIS",
          "CAMPESTRE",
          "CAMPO AZUL",
          "CATAGUASES",
          "CHAPADA GAUCHA",
          "CONCEICAO DAS ALAGOAS",
          "ANDRADAS",
          "ANGELANDIA",
          "BOM JESUS DO GALHO",
          "BONFIM",
          "ITAOBIM",
          "JOSE GONCALVES DE MINAS",
          "NOVA UNIAO",
          "LEANDRO FERREIRA",
          "VIRGEM DA LAPA",
          "CAMPINA VERDE",
          "SANTA RITA DE CALDAS",
          "SANTA FE DE MINAS",
          "SAO ROMAO",
          "VERDELANDIA",
          "CLAUDIO",
          "BURITIS",
          "MARTINHO CAMPOS",
          "MATEUS LEME",
          "MONTE ALEGRE DE MINAS",
          "OURO PRETO",
          "PAPAGAIOS",
          "PRADOS",
          "FERVEDOURO",
          "LASSANCE",
          "VIRGOLANDIA",
          "RESPLENDOR",
          "MADRE DE DEUS DE MINAS",
          "AIMORES",
          "ITANHANDU",
          "MAR DE ESPANHA",
          "BOA ESPERANCA",
          "DESCOBERTO",
          "MACHADO",
          "FREI LAGONEGRO",
          "PARAOPEBA",
          "SENHORA DOS REMEDIOS",
          "GRAO-MOGOL",
          "CACHOEIRA DE PAJEU",
          "CARNEIRINHO",
          "MARIANA",
          "BELMIRO BRAGA",
          "CASSIA",
          "FELICIO DOS SANTOS",
          "RIACHINHO"
         ],
         "xaxis": "x",
         "y": [
          78,
          28,
          17,
          16,
          14,
          13,
          11,
          11,
          10,
          9,
          8,
          7,
          7,
          7,
          6,
          6,
          5,
          5,
          5,
          5,
          5,
          5,
          5,
          5,
          4,
          4,
          4,
          4,
          4,
          4,
          4,
          4,
          4,
          4,
          4,
          4,
          4,
          4,
          4,
          4,
          3,
          3,
          3,
          3,
          3,
          3,
          3,
          3,
          3,
          3,
          3,
          3,
          3,
          3,
          3,
          3,
          3,
          3,
          3,
          3,
          3,
          3,
          3,
          3,
          3,
          3,
          3,
          3,
          3,
          3,
          2,
          2,
          2,
          2,
          2,
          2,
          2,
          2,
          2,
          2,
          2,
          2,
          2,
          2,
          2,
          2,
          2,
          2,
          2,
          2,
          2,
          2,
          2,
          2,
          2,
          2,
          2,
          2,
          2,
          2,
          2,
          2,
          2,
          2,
          2,
          2,
          2,
          2,
          2,
          2,
          2,
          2,
          2,
          2,
          2,
          2,
          2,
          2,
          2,
          2,
          2,
          2,
          2,
          2,
          2,
          2,
          2,
          2,
          2,
          2,
          1,
          1,
          1,
          1,
          1,
          1,
          1,
          1,
          1,
          1,
          1,
          1,
          1,
          1,
          1,
          1,
          1,
          1,
          1,
          1,
          1,
          1,
          1,
          1,
          1,
          1,
          1,
          1,
          1,
          1,
          1,
          1,
          1,
          1,
          1,
          1,
          1,
          1,
          1,
          1,
          1,
          1,
          1,
          1,
          1,
          1,
          1,
          1,
          1,
          1,
          1,
          1,
          1,
          1,
          1,
          1,
          1,
          1,
          1,
          1,
          1,
          1,
          1,
          1,
          1,
          1,
          1,
          1,
          1,
          1,
          1,
          1,
          1,
          1,
          1,
          1,
          1,
          1,
          1,
          1,
          1,
          1,
          1,
          1,
          1,
          1,
          1,
          1,
          1,
          1,
          1,
          1,
          1,
          1,
          1,
          1,
          1,
          1,
          1,
          1,
          1,
          1,
          1,
          1,
          1,
          1,
          1,
          1,
          1,
          1,
          1,
          1,
          1,
          1,
          1,
          1,
          1,
          1,
          1,
          1,
          1,
          1,
          1,
          1,
          1,
          1,
          1,
          1,
          1,
          1,
          1,
          1,
          1,
          1,
          1,
          1,
          1,
          1,
          1,
          1,
          1,
          1,
          1,
          1,
          1,
          1,
          1,
          1,
          1
         ],
         "yaxis": "y"
        }
       ],
       "layout": {
        "barmode": "relative",
        "legend": {
         "tracegroupgap": 0
        },
        "template": {
         "data": {
          "bar": [
           {
            "error_x": {
             "color": "#2a3f5f"
            },
            "error_y": {
             "color": "#2a3f5f"
            },
            "marker": {
             "line": {
              "color": "#E5ECF6",
              "width": 0.5
             },
             "pattern": {
              "fillmode": "overlay",
              "size": 10,
              "solidity": 0.2
             }
            },
            "type": "bar"
           }
          ],
          "barpolar": [
           {
            "marker": {
             "line": {
              "color": "#E5ECF6",
              "width": 0.5
             },
             "pattern": {
              "fillmode": "overlay",
              "size": 10,
              "solidity": 0.2
             }
            },
            "type": "barpolar"
           }
          ],
          "carpet": [
           {
            "aaxis": {
             "endlinecolor": "#2a3f5f",
             "gridcolor": "white",
             "linecolor": "white",
             "minorgridcolor": "white",
             "startlinecolor": "#2a3f5f"
            },
            "baxis": {
             "endlinecolor": "#2a3f5f",
             "gridcolor": "white",
             "linecolor": "white",
             "minorgridcolor": "white",
             "startlinecolor": "#2a3f5f"
            },
            "type": "carpet"
           }
          ],
          "choropleth": [
           {
            "colorbar": {
             "outlinewidth": 0,
             "ticks": ""
            },
            "type": "choropleth"
           }
          ],
          "contour": [
           {
            "colorbar": {
             "outlinewidth": 0,
             "ticks": ""
            },
            "colorscale": [
             [
              0,
              "#0d0887"
             ],
             [
              0.1111111111111111,
              "#46039f"
             ],
             [
              0.2222222222222222,
              "#7201a8"
             ],
             [
              0.3333333333333333,
              "#9c179e"
             ],
             [
              0.4444444444444444,
              "#bd3786"
             ],
             [
              0.5555555555555556,
              "#d8576b"
             ],
             [
              0.6666666666666666,
              "#ed7953"
             ],
             [
              0.7777777777777778,
              "#fb9f3a"
             ],
             [
              0.8888888888888888,
              "#fdca26"
             ],
             [
              1,
              "#f0f921"
             ]
            ],
            "type": "contour"
           }
          ],
          "contourcarpet": [
           {
            "colorbar": {
             "outlinewidth": 0,
             "ticks": ""
            },
            "type": "contourcarpet"
           }
          ],
          "heatmap": [
           {
            "colorbar": {
             "outlinewidth": 0,
             "ticks": ""
            },
            "colorscale": [
             [
              0,
              "#0d0887"
             ],
             [
              0.1111111111111111,
              "#46039f"
             ],
             [
              0.2222222222222222,
              "#7201a8"
             ],
             [
              0.3333333333333333,
              "#9c179e"
             ],
             [
              0.4444444444444444,
              "#bd3786"
             ],
             [
              0.5555555555555556,
              "#d8576b"
             ],
             [
              0.6666666666666666,
              "#ed7953"
             ],
             [
              0.7777777777777778,
              "#fb9f3a"
             ],
             [
              0.8888888888888888,
              "#fdca26"
             ],
             [
              1,
              "#f0f921"
             ]
            ],
            "type": "heatmap"
           }
          ],
          "heatmapgl": [
           {
            "colorbar": {
             "outlinewidth": 0,
             "ticks": ""
            },
            "colorscale": [
             [
              0,
              "#0d0887"
             ],
             [
              0.1111111111111111,
              "#46039f"
             ],
             [
              0.2222222222222222,
              "#7201a8"
             ],
             [
              0.3333333333333333,
              "#9c179e"
             ],
             [
              0.4444444444444444,
              "#bd3786"
             ],
             [
              0.5555555555555556,
              "#d8576b"
             ],
             [
              0.6666666666666666,
              "#ed7953"
             ],
             [
              0.7777777777777778,
              "#fb9f3a"
             ],
             [
              0.8888888888888888,
              "#fdca26"
             ],
             [
              1,
              "#f0f921"
             ]
            ],
            "type": "heatmapgl"
           }
          ],
          "histogram": [
           {
            "marker": {
             "pattern": {
              "fillmode": "overlay",
              "size": 10,
              "solidity": 0.2
             }
            },
            "type": "histogram"
           }
          ],
          "histogram2d": [
           {
            "colorbar": {
             "outlinewidth": 0,
             "ticks": ""
            },
            "colorscale": [
             [
              0,
              "#0d0887"
             ],
             [
              0.1111111111111111,
              "#46039f"
             ],
             [
              0.2222222222222222,
              "#7201a8"
             ],
             [
              0.3333333333333333,
              "#9c179e"
             ],
             [
              0.4444444444444444,
              "#bd3786"
             ],
             [
              0.5555555555555556,
              "#d8576b"
             ],
             [
              0.6666666666666666,
              "#ed7953"
             ],
             [
              0.7777777777777778,
              "#fb9f3a"
             ],
             [
              0.8888888888888888,
              "#fdca26"
             ],
             [
              1,
              "#f0f921"
             ]
            ],
            "type": "histogram2d"
           }
          ],
          "histogram2dcontour": [
           {
            "colorbar": {
             "outlinewidth": 0,
             "ticks": ""
            },
            "colorscale": [
             [
              0,
              "#0d0887"
             ],
             [
              0.1111111111111111,
              "#46039f"
             ],
             [
              0.2222222222222222,
              "#7201a8"
             ],
             [
              0.3333333333333333,
              "#9c179e"
             ],
             [
              0.4444444444444444,
              "#bd3786"
             ],
             [
              0.5555555555555556,
              "#d8576b"
             ],
             [
              0.6666666666666666,
              "#ed7953"
             ],
             [
              0.7777777777777778,
              "#fb9f3a"
             ],
             [
              0.8888888888888888,
              "#fdca26"
             ],
             [
              1,
              "#f0f921"
             ]
            ],
            "type": "histogram2dcontour"
           }
          ],
          "mesh3d": [
           {
            "colorbar": {
             "outlinewidth": 0,
             "ticks": ""
            },
            "type": "mesh3d"
           }
          ],
          "parcoords": [
           {
            "line": {
             "colorbar": {
              "outlinewidth": 0,
              "ticks": ""
             }
            },
            "type": "parcoords"
           }
          ],
          "pie": [
           {
            "automargin": true,
            "type": "pie"
           }
          ],
          "scatter": [
           {
            "fillpattern": {
             "fillmode": "overlay",
             "size": 10,
             "solidity": 0.2
            },
            "type": "scatter"
           }
          ],
          "scatter3d": [
           {
            "line": {
             "colorbar": {
              "outlinewidth": 0,
              "ticks": ""
             }
            },
            "marker": {
             "colorbar": {
              "outlinewidth": 0,
              "ticks": ""
             }
            },
            "type": "scatter3d"
           }
          ],
          "scattercarpet": [
           {
            "marker": {
             "colorbar": {
              "outlinewidth": 0,
              "ticks": ""
             }
            },
            "type": "scattercarpet"
           }
          ],
          "scattergeo": [
           {
            "marker": {
             "colorbar": {
              "outlinewidth": 0,
              "ticks": ""
             }
            },
            "type": "scattergeo"
           }
          ],
          "scattergl": [
           {
            "marker": {
             "colorbar": {
              "outlinewidth": 0,
              "ticks": ""
             }
            },
            "type": "scattergl"
           }
          ],
          "scattermapbox": [
           {
            "marker": {
             "colorbar": {
              "outlinewidth": 0,
              "ticks": ""
             }
            },
            "type": "scattermapbox"
           }
          ],
          "scatterpolar": [
           {
            "marker": {
             "colorbar": {
              "outlinewidth": 0,
              "ticks": ""
             }
            },
            "type": "scatterpolar"
           }
          ],
          "scatterpolargl": [
           {
            "marker": {
             "colorbar": {
              "outlinewidth": 0,
              "ticks": ""
             }
            },
            "type": "scatterpolargl"
           }
          ],
          "scatterternary": [
           {
            "marker": {
             "colorbar": {
              "outlinewidth": 0,
              "ticks": ""
             }
            },
            "type": "scatterternary"
           }
          ],
          "surface": [
           {
            "colorbar": {
             "outlinewidth": 0,
             "ticks": ""
            },
            "colorscale": [
             [
              0,
              "#0d0887"
             ],
             [
              0.1111111111111111,
              "#46039f"
             ],
             [
              0.2222222222222222,
              "#7201a8"
             ],
             [
              0.3333333333333333,
              "#9c179e"
             ],
             [
              0.4444444444444444,
              "#bd3786"
             ],
             [
              0.5555555555555556,
              "#d8576b"
             ],
             [
              0.6666666666666666,
              "#ed7953"
             ],
             [
              0.7777777777777778,
              "#fb9f3a"
             ],
             [
              0.8888888888888888,
              "#fdca26"
             ],
             [
              1,
              "#f0f921"
             ]
            ],
            "type": "surface"
           }
          ],
          "table": [
           {
            "cells": {
             "fill": {
              "color": "#EBF0F8"
             },
             "line": {
              "color": "white"
             }
            },
            "header": {
             "fill": {
              "color": "#C8D4E3"
             },
             "line": {
              "color": "white"
             }
            },
            "type": "table"
           }
          ]
         },
         "layout": {
          "annotationdefaults": {
           "arrowcolor": "#2a3f5f",
           "arrowhead": 0,
           "arrowwidth": 1
          },
          "autotypenumbers": "strict",
          "coloraxis": {
           "colorbar": {
            "outlinewidth": 0,
            "ticks": ""
           }
          },
          "colorscale": {
           "diverging": [
            [
             0,
             "#8e0152"
            ],
            [
             0.1,
             "#c51b7d"
            ],
            [
             0.2,
             "#de77ae"
            ],
            [
             0.3,
             "#f1b6da"
            ],
            [
             0.4,
             "#fde0ef"
            ],
            [
             0.5,
             "#f7f7f7"
            ],
            [
             0.6,
             "#e6f5d0"
            ],
            [
             0.7,
             "#b8e186"
            ],
            [
             0.8,
             "#7fbc41"
            ],
            [
             0.9,
             "#4d9221"
            ],
            [
             1,
             "#276419"
            ]
           ],
           "sequential": [
            [
             0,
             "#0d0887"
            ],
            [
             0.1111111111111111,
             "#46039f"
            ],
            [
             0.2222222222222222,
             "#7201a8"
            ],
            [
             0.3333333333333333,
             "#9c179e"
            ],
            [
             0.4444444444444444,
             "#bd3786"
            ],
            [
             0.5555555555555556,
             "#d8576b"
            ],
            [
             0.6666666666666666,
             "#ed7953"
            ],
            [
             0.7777777777777778,
             "#fb9f3a"
            ],
            [
             0.8888888888888888,
             "#fdca26"
            ],
            [
             1,
             "#f0f921"
            ]
           ],
           "sequentialminus": [
            [
             0,
             "#0d0887"
            ],
            [
             0.1111111111111111,
             "#46039f"
            ],
            [
             0.2222222222222222,
             "#7201a8"
            ],
            [
             0.3333333333333333,
             "#9c179e"
            ],
            [
             0.4444444444444444,
             "#bd3786"
            ],
            [
             0.5555555555555556,
             "#d8576b"
            ],
            [
             0.6666666666666666,
             "#ed7953"
            ],
            [
             0.7777777777777778,
             "#fb9f3a"
            ],
            [
             0.8888888888888888,
             "#fdca26"
            ],
            [
             1,
             "#f0f921"
            ]
           ]
          },
          "colorway": [
           "#636efa",
           "#EF553B",
           "#00cc96",
           "#ab63fa",
           "#FFA15A",
           "#19d3f3",
           "#FF6692",
           "#B6E880",
           "#FF97FF",
           "#FECB52"
          ],
          "font": {
           "color": "#2a3f5f"
          },
          "geo": {
           "bgcolor": "white",
           "lakecolor": "white",
           "landcolor": "#E5ECF6",
           "showlakes": true,
           "showland": true,
           "subunitcolor": "white"
          },
          "hoverlabel": {
           "align": "left"
          },
          "hovermode": "closest",
          "mapbox": {
           "style": "light"
          },
          "paper_bgcolor": "white",
          "plot_bgcolor": "#E5ECF6",
          "polar": {
           "angularaxis": {
            "gridcolor": "white",
            "linecolor": "white",
            "ticks": ""
           },
           "bgcolor": "#E5ECF6",
           "radialaxis": {
            "gridcolor": "white",
            "linecolor": "white",
            "ticks": ""
           }
          },
          "scene": {
           "xaxis": {
            "backgroundcolor": "#E5ECF6",
            "gridcolor": "white",
            "gridwidth": 2,
            "linecolor": "white",
            "showbackground": true,
            "ticks": "",
            "zerolinecolor": "white"
           },
           "yaxis": {
            "backgroundcolor": "#E5ECF6",
            "gridcolor": "white",
            "gridwidth": 2,
            "linecolor": "white",
            "showbackground": true,
            "ticks": "",
            "zerolinecolor": "white"
           },
           "zaxis": {
            "backgroundcolor": "#E5ECF6",
            "gridcolor": "white",
            "gridwidth": 2,
            "linecolor": "white",
            "showbackground": true,
            "ticks": "",
            "zerolinecolor": "white"
           }
          },
          "shapedefaults": {
           "line": {
            "color": "#2a3f5f"
           }
          },
          "ternary": {
           "aaxis": {
            "gridcolor": "white",
            "linecolor": "white",
            "ticks": ""
           },
           "baxis": {
            "gridcolor": "white",
            "linecolor": "white",
            "ticks": ""
           },
           "bgcolor": "#E5ECF6",
           "caxis": {
            "gridcolor": "white",
            "linecolor": "white",
            "ticks": ""
           }
          },
          "title": {
           "x": 0.05
          },
          "xaxis": {
           "automargin": true,
           "gridcolor": "white",
           "linecolor": "white",
           "ticks": "",
           "title": {
            "standoff": 15
           },
           "zerolinecolor": "white",
           "zerolinewidth": 2
          },
          "yaxis": {
           "automargin": true,
           "gridcolor": "white",
           "linecolor": "white",
           "ticks": "",
           "title": {
            "standoff": 15
           },
           "zerolinecolor": "white",
           "zerolinewidth": 2
          }
         }
        },
        "title": {
         "text": "Número de Ocorrências por Município"
        },
        "xaxis": {
         "anchor": "y",
         "domain": [
          0,
          1
         ],
         "title": {
          "text": "Município"
         }
        },
        "yaxis": {
         "anchor": "x",
         "domain": [
          0,
          1
         ],
         "title": {
          "text": "Número de Ocorrências"
         }
        }
       }
      }
     },
     "metadata": {},
     "output_type": "display_data"
    }
   ],
   "source": [
    "import plotly.express as px \n",
    "grafico = px.bar(x= num_regiao.index, y= num_regiao.values, title='Número de Ocorrências por Município',\n",
    "      labels={'x': 'Município', 'y': 'Número de Ocorrências'} )\n",
    "grafico.show()"
   ]
  },
  {
   "cell_type": "markdown",
   "metadata": {},
   "source": [
    "Compararação a proporção de feminicídios tentados X consumados."
   ]
  },
  {
   "cell_type": "code",
   "execution_count": 8,
   "metadata": {},
   "outputs": [
    {
     "data": {
      "text/plain": [
       "tentado_consumado\n",
       "TENTADO      488\n",
       "CONSUMADO    223\n",
       "Name: count, dtype: int64"
      ]
     },
     "metadata": {},
     "output_type": "display_data"
    }
   ],
   "source": [
    "comparacao = tabela[\"tentado_consumado\"].value_counts()\n",
    "tabela = tabela.groupby(\"tentado_consumado\")[\"tentado_consumado\"].transform(\"count\")\n",
    "display(comparacao)"
   ]
  },
  {
   "cell_type": "code",
   "execution_count": 9,
   "metadata": {},
   "outputs": [
    {
     "data": {
      "application/vnd.plotly.v1+json": {
       "config": {
        "plotlyServerURL": "https://plot.ly"
       },
       "data": [
        {
         "domain": {
          "x": [
           0,
           1
          ],
          "y": [
           0,
           1
          ]
         },
         "hovertemplate": "tentado_consumado=%{label}<br>value=%{value}<extra></extra>",
         "labels": [
          "TENTADO",
          "CONSUMADO"
         ],
         "legendgroup": "",
         "name": "",
         "showlegend": true,
         "type": "pie",
         "values": [
          488,
          223
         ]
        }
       ],
       "layout": {
        "legend": {
         "tracegroupgap": 0
        },
        "piecolorway": [
         "#FFA07A",
         "#20B2AA"
        ],
        "template": {
         "data": {
          "bar": [
           {
            "error_x": {
             "color": "#2a3f5f"
            },
            "error_y": {
             "color": "#2a3f5f"
            },
            "marker": {
             "line": {
              "color": "#E5ECF6",
              "width": 0.5
             },
             "pattern": {
              "fillmode": "overlay",
              "size": 10,
              "solidity": 0.2
             }
            },
            "type": "bar"
           }
          ],
          "barpolar": [
           {
            "marker": {
             "line": {
              "color": "#E5ECF6",
              "width": 0.5
             },
             "pattern": {
              "fillmode": "overlay",
              "size": 10,
              "solidity": 0.2
             }
            },
            "type": "barpolar"
           }
          ],
          "carpet": [
           {
            "aaxis": {
             "endlinecolor": "#2a3f5f",
             "gridcolor": "white",
             "linecolor": "white",
             "minorgridcolor": "white",
             "startlinecolor": "#2a3f5f"
            },
            "baxis": {
             "endlinecolor": "#2a3f5f",
             "gridcolor": "white",
             "linecolor": "white",
             "minorgridcolor": "white",
             "startlinecolor": "#2a3f5f"
            },
            "type": "carpet"
           }
          ],
          "choropleth": [
           {
            "colorbar": {
             "outlinewidth": 0,
             "ticks": ""
            },
            "type": "choropleth"
           }
          ],
          "contour": [
           {
            "colorbar": {
             "outlinewidth": 0,
             "ticks": ""
            },
            "colorscale": [
             [
              0,
              "#0d0887"
             ],
             [
              0.1111111111111111,
              "#46039f"
             ],
             [
              0.2222222222222222,
              "#7201a8"
             ],
             [
              0.3333333333333333,
              "#9c179e"
             ],
             [
              0.4444444444444444,
              "#bd3786"
             ],
             [
              0.5555555555555556,
              "#d8576b"
             ],
             [
              0.6666666666666666,
              "#ed7953"
             ],
             [
              0.7777777777777778,
              "#fb9f3a"
             ],
             [
              0.8888888888888888,
              "#fdca26"
             ],
             [
              1,
              "#f0f921"
             ]
            ],
            "type": "contour"
           }
          ],
          "contourcarpet": [
           {
            "colorbar": {
             "outlinewidth": 0,
             "ticks": ""
            },
            "type": "contourcarpet"
           }
          ],
          "heatmap": [
           {
            "colorbar": {
             "outlinewidth": 0,
             "ticks": ""
            },
            "colorscale": [
             [
              0,
              "#0d0887"
             ],
             [
              0.1111111111111111,
              "#46039f"
             ],
             [
              0.2222222222222222,
              "#7201a8"
             ],
             [
              0.3333333333333333,
              "#9c179e"
             ],
             [
              0.4444444444444444,
              "#bd3786"
             ],
             [
              0.5555555555555556,
              "#d8576b"
             ],
             [
              0.6666666666666666,
              "#ed7953"
             ],
             [
              0.7777777777777778,
              "#fb9f3a"
             ],
             [
              0.8888888888888888,
              "#fdca26"
             ],
             [
              1,
              "#f0f921"
             ]
            ],
            "type": "heatmap"
           }
          ],
          "heatmapgl": [
           {
            "colorbar": {
             "outlinewidth": 0,
             "ticks": ""
            },
            "colorscale": [
             [
              0,
              "#0d0887"
             ],
             [
              0.1111111111111111,
              "#46039f"
             ],
             [
              0.2222222222222222,
              "#7201a8"
             ],
             [
              0.3333333333333333,
              "#9c179e"
             ],
             [
              0.4444444444444444,
              "#bd3786"
             ],
             [
              0.5555555555555556,
              "#d8576b"
             ],
             [
              0.6666666666666666,
              "#ed7953"
             ],
             [
              0.7777777777777778,
              "#fb9f3a"
             ],
             [
              0.8888888888888888,
              "#fdca26"
             ],
             [
              1,
              "#f0f921"
             ]
            ],
            "type": "heatmapgl"
           }
          ],
          "histogram": [
           {
            "marker": {
             "pattern": {
              "fillmode": "overlay",
              "size": 10,
              "solidity": 0.2
             }
            },
            "type": "histogram"
           }
          ],
          "histogram2d": [
           {
            "colorbar": {
             "outlinewidth": 0,
             "ticks": ""
            },
            "colorscale": [
             [
              0,
              "#0d0887"
             ],
             [
              0.1111111111111111,
              "#46039f"
             ],
             [
              0.2222222222222222,
              "#7201a8"
             ],
             [
              0.3333333333333333,
              "#9c179e"
             ],
             [
              0.4444444444444444,
              "#bd3786"
             ],
             [
              0.5555555555555556,
              "#d8576b"
             ],
             [
              0.6666666666666666,
              "#ed7953"
             ],
             [
              0.7777777777777778,
              "#fb9f3a"
             ],
             [
              0.8888888888888888,
              "#fdca26"
             ],
             [
              1,
              "#f0f921"
             ]
            ],
            "type": "histogram2d"
           }
          ],
          "histogram2dcontour": [
           {
            "colorbar": {
             "outlinewidth": 0,
             "ticks": ""
            },
            "colorscale": [
             [
              0,
              "#0d0887"
             ],
             [
              0.1111111111111111,
              "#46039f"
             ],
             [
              0.2222222222222222,
              "#7201a8"
             ],
             [
              0.3333333333333333,
              "#9c179e"
             ],
             [
              0.4444444444444444,
              "#bd3786"
             ],
             [
              0.5555555555555556,
              "#d8576b"
             ],
             [
              0.6666666666666666,
              "#ed7953"
             ],
             [
              0.7777777777777778,
              "#fb9f3a"
             ],
             [
              0.8888888888888888,
              "#fdca26"
             ],
             [
              1,
              "#f0f921"
             ]
            ],
            "type": "histogram2dcontour"
           }
          ],
          "mesh3d": [
           {
            "colorbar": {
             "outlinewidth": 0,
             "ticks": ""
            },
            "type": "mesh3d"
           }
          ],
          "parcoords": [
           {
            "line": {
             "colorbar": {
              "outlinewidth": 0,
              "ticks": ""
             }
            },
            "type": "parcoords"
           }
          ],
          "pie": [
           {
            "automargin": true,
            "type": "pie"
           }
          ],
          "scatter": [
           {
            "fillpattern": {
             "fillmode": "overlay",
             "size": 10,
             "solidity": 0.2
            },
            "type": "scatter"
           }
          ],
          "scatter3d": [
           {
            "line": {
             "colorbar": {
              "outlinewidth": 0,
              "ticks": ""
             }
            },
            "marker": {
             "colorbar": {
              "outlinewidth": 0,
              "ticks": ""
             }
            },
            "type": "scatter3d"
           }
          ],
          "scattercarpet": [
           {
            "marker": {
             "colorbar": {
              "outlinewidth": 0,
              "ticks": ""
             }
            },
            "type": "scattercarpet"
           }
          ],
          "scattergeo": [
           {
            "marker": {
             "colorbar": {
              "outlinewidth": 0,
              "ticks": ""
             }
            },
            "type": "scattergeo"
           }
          ],
          "scattergl": [
           {
            "marker": {
             "colorbar": {
              "outlinewidth": 0,
              "ticks": ""
             }
            },
            "type": "scattergl"
           }
          ],
          "scattermapbox": [
           {
            "marker": {
             "colorbar": {
              "outlinewidth": 0,
              "ticks": ""
             }
            },
            "type": "scattermapbox"
           }
          ],
          "scatterpolar": [
           {
            "marker": {
             "colorbar": {
              "outlinewidth": 0,
              "ticks": ""
             }
            },
            "type": "scatterpolar"
           }
          ],
          "scatterpolargl": [
           {
            "marker": {
             "colorbar": {
              "outlinewidth": 0,
              "ticks": ""
             }
            },
            "type": "scatterpolargl"
           }
          ],
          "scatterternary": [
           {
            "marker": {
             "colorbar": {
              "outlinewidth": 0,
              "ticks": ""
             }
            },
            "type": "scatterternary"
           }
          ],
          "surface": [
           {
            "colorbar": {
             "outlinewidth": 0,
             "ticks": ""
            },
            "colorscale": [
             [
              0,
              "#0d0887"
             ],
             [
              0.1111111111111111,
              "#46039f"
             ],
             [
              0.2222222222222222,
              "#7201a8"
             ],
             [
              0.3333333333333333,
              "#9c179e"
             ],
             [
              0.4444444444444444,
              "#bd3786"
             ],
             [
              0.5555555555555556,
              "#d8576b"
             ],
             [
              0.6666666666666666,
              "#ed7953"
             ],
             [
              0.7777777777777778,
              "#fb9f3a"
             ],
             [
              0.8888888888888888,
              "#fdca26"
             ],
             [
              1,
              "#f0f921"
             ]
            ],
            "type": "surface"
           }
          ],
          "table": [
           {
            "cells": {
             "fill": {
              "color": "#EBF0F8"
             },
             "line": {
              "color": "white"
             }
            },
            "header": {
             "fill": {
              "color": "#C8D4E3"
             },
             "line": {
              "color": "white"
             }
            },
            "type": "table"
           }
          ]
         },
         "layout": {
          "annotationdefaults": {
           "arrowcolor": "#2a3f5f",
           "arrowhead": 0,
           "arrowwidth": 1
          },
          "autotypenumbers": "strict",
          "coloraxis": {
           "colorbar": {
            "outlinewidth": 0,
            "ticks": ""
           }
          },
          "colorscale": {
           "diverging": [
            [
             0,
             "#8e0152"
            ],
            [
             0.1,
             "#c51b7d"
            ],
            [
             0.2,
             "#de77ae"
            ],
            [
             0.3,
             "#f1b6da"
            ],
            [
             0.4,
             "#fde0ef"
            ],
            [
             0.5,
             "#f7f7f7"
            ],
            [
             0.6,
             "#e6f5d0"
            ],
            [
             0.7,
             "#b8e186"
            ],
            [
             0.8,
             "#7fbc41"
            ],
            [
             0.9,
             "#4d9221"
            ],
            [
             1,
             "#276419"
            ]
           ],
           "sequential": [
            [
             0,
             "#0d0887"
            ],
            [
             0.1111111111111111,
             "#46039f"
            ],
            [
             0.2222222222222222,
             "#7201a8"
            ],
            [
             0.3333333333333333,
             "#9c179e"
            ],
            [
             0.4444444444444444,
             "#bd3786"
            ],
            [
             0.5555555555555556,
             "#d8576b"
            ],
            [
             0.6666666666666666,
             "#ed7953"
            ],
            [
             0.7777777777777778,
             "#fb9f3a"
            ],
            [
             0.8888888888888888,
             "#fdca26"
            ],
            [
             1,
             "#f0f921"
            ]
           ],
           "sequentialminus": [
            [
             0,
             "#0d0887"
            ],
            [
             0.1111111111111111,
             "#46039f"
            ],
            [
             0.2222222222222222,
             "#7201a8"
            ],
            [
             0.3333333333333333,
             "#9c179e"
            ],
            [
             0.4444444444444444,
             "#bd3786"
            ],
            [
             0.5555555555555556,
             "#d8576b"
            ],
            [
             0.6666666666666666,
             "#ed7953"
            ],
            [
             0.7777777777777778,
             "#fb9f3a"
            ],
            [
             0.8888888888888888,
             "#fdca26"
            ],
            [
             1,
             "#f0f921"
            ]
           ]
          },
          "colorway": [
           "#636efa",
           "#EF553B",
           "#00cc96",
           "#ab63fa",
           "#FFA15A",
           "#19d3f3",
           "#FF6692",
           "#B6E880",
           "#FF97FF",
           "#FECB52"
          ],
          "font": {
           "color": "#2a3f5f"
          },
          "geo": {
           "bgcolor": "white",
           "lakecolor": "white",
           "landcolor": "#E5ECF6",
           "showlakes": true,
           "showland": true,
           "subunitcolor": "white"
          },
          "hoverlabel": {
           "align": "left"
          },
          "hovermode": "closest",
          "mapbox": {
           "style": "light"
          },
          "paper_bgcolor": "white",
          "plot_bgcolor": "#E5ECF6",
          "polar": {
           "angularaxis": {
            "gridcolor": "white",
            "linecolor": "white",
            "ticks": ""
           },
           "bgcolor": "#E5ECF6",
           "radialaxis": {
            "gridcolor": "white",
            "linecolor": "white",
            "ticks": ""
           }
          },
          "scene": {
           "xaxis": {
            "backgroundcolor": "#E5ECF6",
            "gridcolor": "white",
            "gridwidth": 2,
            "linecolor": "white",
            "showbackground": true,
            "ticks": "",
            "zerolinecolor": "white"
           },
           "yaxis": {
            "backgroundcolor": "#E5ECF6",
            "gridcolor": "white",
            "gridwidth": 2,
            "linecolor": "white",
            "showbackground": true,
            "ticks": "",
            "zerolinecolor": "white"
           },
           "zaxis": {
            "backgroundcolor": "#E5ECF6",
            "gridcolor": "white",
            "gridwidth": 2,
            "linecolor": "white",
            "showbackground": true,
            "ticks": "",
            "zerolinecolor": "white"
           }
          },
          "shapedefaults": {
           "line": {
            "color": "#2a3f5f"
           }
          },
          "ternary": {
           "aaxis": {
            "gridcolor": "white",
            "linecolor": "white",
            "ticks": ""
           },
           "baxis": {
            "gridcolor": "white",
            "linecolor": "white",
            "ticks": ""
           },
           "bgcolor": "#E5ECF6",
           "caxis": {
            "gridcolor": "white",
            "linecolor": "white",
            "ticks": ""
           }
          },
          "title": {
           "x": 0.05
          },
          "xaxis": {
           "automargin": true,
           "gridcolor": "white",
           "linecolor": "white",
           "ticks": "",
           "title": {
            "standoff": 15
           },
           "zerolinecolor": "white",
           "zerolinewidth": 2
          },
          "yaxis": {
           "automargin": true,
           "gridcolor": "white",
           "linecolor": "white",
           "ticks": "",
           "title": {
            "standoff": 15
           },
           "zerolinecolor": "white",
           "zerolinewidth": 2
          }
         }
        },
        "title": {
         "text": "Distribuição de Tentado vs. Consumado"
        }
       }
      }
     },
     "metadata": {},
     "output_type": "display_data"
    }
   ],
   "source": [
    "import plotly.express as px \n",
    "\n",
    "grafico = px.pie(comparacao, names= comparacao.index, values= comparacao.values, title=\"Distribuição de Tentado vs. Consumado\",\n",
    "                 color_discrete_sequence=['#FFA07A', '#20B2AA'])\n",
    "grafico.show()"
   ]
  },
  {
   "cell_type": "markdown",
   "metadata": {},
   "source": [
    "COM ESSA MINE ANÁLISE PODEMOS ANÁLISAR QUE A REGIÃO DE BH PRINCIPALMENTE NO MÊS DE AGOSTO,SOFRE UMA GRANDE DEMANDA DE TENTATIVAS DE FIMINICÍDIOS"
   ]
  }
 ],
 "metadata": {
  "kernelspec": {
   "display_name": "Python 3",
   "language": "python",
   "name": "python3"
  },
  "language_info": {
   "codemirror_mode": {
    "name": "ipython",
    "version": 3
   },
   "file_extension": ".py",
   "mimetype": "text/x-python",
   "name": "python",
   "nbconvert_exporter": "python",
   "pygments_lexer": "ipython3",
   "version": "3.12.4"
  }
 },
 "nbformat": 4,
 "nbformat_minor": 2
}
